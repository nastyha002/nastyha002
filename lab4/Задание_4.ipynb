{
  "nbformat": 4,
  "nbformat_minor": 0,
  "metadata": {
    "colab": {
      "provenance": [],
      "include_colab_link": true
    },
    "kernelspec": {
      "name": "python3",
      "display_name": "Python 3"
    },
    "language_info": {
      "name": "python"
    }
  },
  "cells": [
    {
      "cell_type": "markdown",
      "metadata": {
        "id": "view-in-github",
        "colab_type": "text"
      },
      "source": [
        "<a href=\"https://colab.research.google.com/github/nastyha002/nastyha002/blob/main/lab4/%D0%97%D0%B0%D0%B4%D0%B0%D0%BD%D0%B8%D0%B5_4.ipynb\" target=\"_parent\"><img src=\"https://colab.research.google.com/assets/colab-badge.svg\" alt=\"Open In Colab\"/></a>"
      ]
    },
    {
      "cell_type": "markdown",
      "source": [
        "#Методы кластеризации и оценка качества кластеризации"
      ],
      "metadata": {
        "id": "R9Z5OOJV6d0w"
      }
    },
    {
      "cell_type": "markdown",
      "source": [
        "Загрузите набор данных из файла cluster datasets в соответствии с вашим вариантом (если считаете, что набор данных не представляет необходимой информации или сложен для интерперетации или, то можно выбрать другой - но **необходимо предварительное согласование**)."
      ],
      "metadata": {
        "id": "cii8v-1l6fyV"
      }
    },
    {
      "cell_type": "code",
      "execution_count": 1,
      "metadata": {
        "id": "T1dV5-wj6zEu",
        "outputId": "3d8368f6-5a10-4475-daaf-5347583acc9d",
        "colab": {
          "base_uri": "https://localhost:8080/",
          "height": 424
        }
      },
      "outputs": [
        {
          "output_type": "execute_result",
          "data": {
            "text/plain": [
              "     Unnamed: 0         x          y\n",
              "0             1  3.367596   3.536694\n",
              "1             2  2.667870   4.479919\n",
              "2             3  1.344171   3.282591\n",
              "3             4  1.389414   4.683227\n",
              "4             5  1.644644   4.320822\n",
              "..          ...       ...        ...\n",
              "185         186  8.610144  10.429247\n",
              "186         187  6.775686  11.724382\n",
              "187         188  7.023465   9.632056\n",
              "188         189  6.115584   9.449803\n",
              "189         190  7.868889  12.894445\n",
              "\n",
              "[190 rows x 3 columns]"
            ],
            "text/html": [
              "\n",
              "  <div id=\"df-02a50e94-df0e-4446-8361-0dedbed11ed5\" class=\"colab-df-container\">\n",
              "    <div>\n",
              "<style scoped>\n",
              "    .dataframe tbody tr th:only-of-type {\n",
              "        vertical-align: middle;\n",
              "    }\n",
              "\n",
              "    .dataframe tbody tr th {\n",
              "        vertical-align: top;\n",
              "    }\n",
              "\n",
              "    .dataframe thead th {\n",
              "        text-align: right;\n",
              "    }\n",
              "</style>\n",
              "<table border=\"1\" class=\"dataframe\">\n",
              "  <thead>\n",
              "    <tr style=\"text-align: right;\">\n",
              "      <th></th>\n",
              "      <th>Unnamed: 0</th>\n",
              "      <th>x</th>\n",
              "      <th>y</th>\n",
              "    </tr>\n",
              "  </thead>\n",
              "  <tbody>\n",
              "    <tr>\n",
              "      <th>0</th>\n",
              "      <td>1</td>\n",
              "      <td>3.367596</td>\n",
              "      <td>3.536694</td>\n",
              "    </tr>\n",
              "    <tr>\n",
              "      <th>1</th>\n",
              "      <td>2</td>\n",
              "      <td>2.667870</td>\n",
              "      <td>4.479919</td>\n",
              "    </tr>\n",
              "    <tr>\n",
              "      <th>2</th>\n",
              "      <td>3</td>\n",
              "      <td>1.344171</td>\n",
              "      <td>3.282591</td>\n",
              "    </tr>\n",
              "    <tr>\n",
              "      <th>3</th>\n",
              "      <td>4</td>\n",
              "      <td>1.389414</td>\n",
              "      <td>4.683227</td>\n",
              "    </tr>\n",
              "    <tr>\n",
              "      <th>4</th>\n",
              "      <td>5</td>\n",
              "      <td>1.644644</td>\n",
              "      <td>4.320822</td>\n",
              "    </tr>\n",
              "    <tr>\n",
              "      <th>...</th>\n",
              "      <td>...</td>\n",
              "      <td>...</td>\n",
              "      <td>...</td>\n",
              "    </tr>\n",
              "    <tr>\n",
              "      <th>185</th>\n",
              "      <td>186</td>\n",
              "      <td>8.610144</td>\n",
              "      <td>10.429247</td>\n",
              "    </tr>\n",
              "    <tr>\n",
              "      <th>186</th>\n",
              "      <td>187</td>\n",
              "      <td>6.775686</td>\n",
              "      <td>11.724382</td>\n",
              "    </tr>\n",
              "    <tr>\n",
              "      <th>187</th>\n",
              "      <td>188</td>\n",
              "      <td>7.023465</td>\n",
              "      <td>9.632056</td>\n",
              "    </tr>\n",
              "    <tr>\n",
              "      <th>188</th>\n",
              "      <td>189</td>\n",
              "      <td>6.115584</td>\n",
              "      <td>9.449803</td>\n",
              "    </tr>\n",
              "    <tr>\n",
              "      <th>189</th>\n",
              "      <td>190</td>\n",
              "      <td>7.868889</td>\n",
              "      <td>12.894445</td>\n",
              "    </tr>\n",
              "  </tbody>\n",
              "</table>\n",
              "<p>190 rows × 3 columns</p>\n",
              "</div>\n",
              "    <div class=\"colab-df-buttons\">\n",
              "\n",
              "  <div class=\"colab-df-container\">\n",
              "    <button class=\"colab-df-convert\" onclick=\"convertToInteractive('df-02a50e94-df0e-4446-8361-0dedbed11ed5')\"\n",
              "            title=\"Convert this dataframe to an interactive table.\"\n",
              "            style=\"display:none;\">\n",
              "\n",
              "  <svg xmlns=\"http://www.w3.org/2000/svg\" height=\"24px\" viewBox=\"0 -960 960 960\">\n",
              "    <path d=\"M120-120v-720h720v720H120Zm60-500h600v-160H180v160Zm220 220h160v-160H400v160Zm0 220h160v-160H400v160ZM180-400h160v-160H180v160Zm440 0h160v-160H620v160ZM180-180h160v-160H180v160Zm440 0h160v-160H620v160Z\"/>\n",
              "  </svg>\n",
              "    </button>\n",
              "\n",
              "  <style>\n",
              "    .colab-df-container {\n",
              "      display:flex;\n",
              "      gap: 12px;\n",
              "    }\n",
              "\n",
              "    .colab-df-convert {\n",
              "      background-color: #E8F0FE;\n",
              "      border: none;\n",
              "      border-radius: 50%;\n",
              "      cursor: pointer;\n",
              "      display: none;\n",
              "      fill: #1967D2;\n",
              "      height: 32px;\n",
              "      padding: 0 0 0 0;\n",
              "      width: 32px;\n",
              "    }\n",
              "\n",
              "    .colab-df-convert:hover {\n",
              "      background-color: #E2EBFA;\n",
              "      box-shadow: 0px 1px 2px rgba(60, 64, 67, 0.3), 0px 1px 3px 1px rgba(60, 64, 67, 0.15);\n",
              "      fill: #174EA6;\n",
              "    }\n",
              "\n",
              "    .colab-df-buttons div {\n",
              "      margin-bottom: 4px;\n",
              "    }\n",
              "\n",
              "    [theme=dark] .colab-df-convert {\n",
              "      background-color: #3B4455;\n",
              "      fill: #D2E3FC;\n",
              "    }\n",
              "\n",
              "    [theme=dark] .colab-df-convert:hover {\n",
              "      background-color: #434B5C;\n",
              "      box-shadow: 0px 1px 3px 1px rgba(0, 0, 0, 0.15);\n",
              "      filter: drop-shadow(0px 1px 2px rgba(0, 0, 0, 0.3));\n",
              "      fill: #FFFFFF;\n",
              "    }\n",
              "  </style>\n",
              "\n",
              "    <script>\n",
              "      const buttonEl =\n",
              "        document.querySelector('#df-02a50e94-df0e-4446-8361-0dedbed11ed5 button.colab-df-convert');\n",
              "      buttonEl.style.display =\n",
              "        google.colab.kernel.accessAllowed ? 'block' : 'none';\n",
              "\n",
              "      async function convertToInteractive(key) {\n",
              "        const element = document.querySelector('#df-02a50e94-df0e-4446-8361-0dedbed11ed5');\n",
              "        const dataTable =\n",
              "          await google.colab.kernel.invokeFunction('convertToInteractive',\n",
              "                                                    [key], {});\n",
              "        if (!dataTable) return;\n",
              "\n",
              "        const docLinkHtml = 'Like what you see? Visit the ' +\n",
              "          '<a target=\"_blank\" href=https://colab.research.google.com/notebooks/data_table.ipynb>data table notebook</a>'\n",
              "          + ' to learn more about interactive tables.';\n",
              "        element.innerHTML = '';\n",
              "        dataTable['output_type'] = 'display_data';\n",
              "        await google.colab.output.renderOutput(dataTable, element);\n",
              "        const docLink = document.createElement('div');\n",
              "        docLink.innerHTML = docLinkHtml;\n",
              "        element.appendChild(docLink);\n",
              "      }\n",
              "    </script>\n",
              "  </div>\n",
              "\n",
              "\n",
              "<div id=\"df-9a3b0935-bd52-40e5-911c-63aa8bb5a3a6\">\n",
              "  <button class=\"colab-df-quickchart\" onclick=\"quickchart('df-9a3b0935-bd52-40e5-911c-63aa8bb5a3a6')\"\n",
              "            title=\"Suggest charts\"\n",
              "            style=\"display:none;\">\n",
              "\n",
              "<svg xmlns=\"http://www.w3.org/2000/svg\" height=\"24px\"viewBox=\"0 0 24 24\"\n",
              "     width=\"24px\">\n",
              "    <g>\n",
              "        <path d=\"M19 3H5c-1.1 0-2 .9-2 2v14c0 1.1.9 2 2 2h14c1.1 0 2-.9 2-2V5c0-1.1-.9-2-2-2zM9 17H7v-7h2v7zm4 0h-2V7h2v10zm4 0h-2v-4h2v4z\"/>\n",
              "    </g>\n",
              "</svg>\n",
              "  </button>\n",
              "\n",
              "<style>\n",
              "  .colab-df-quickchart {\n",
              "      --bg-color: #E8F0FE;\n",
              "      --fill-color: #1967D2;\n",
              "      --hover-bg-color: #E2EBFA;\n",
              "      --hover-fill-color: #174EA6;\n",
              "      --disabled-fill-color: #AAA;\n",
              "      --disabled-bg-color: #DDD;\n",
              "  }\n",
              "\n",
              "  [theme=dark] .colab-df-quickchart {\n",
              "      --bg-color: #3B4455;\n",
              "      --fill-color: #D2E3FC;\n",
              "      --hover-bg-color: #434B5C;\n",
              "      --hover-fill-color: #FFFFFF;\n",
              "      --disabled-bg-color: #3B4455;\n",
              "      --disabled-fill-color: #666;\n",
              "  }\n",
              "\n",
              "  .colab-df-quickchart {\n",
              "    background-color: var(--bg-color);\n",
              "    border: none;\n",
              "    border-radius: 50%;\n",
              "    cursor: pointer;\n",
              "    display: none;\n",
              "    fill: var(--fill-color);\n",
              "    height: 32px;\n",
              "    padding: 0;\n",
              "    width: 32px;\n",
              "  }\n",
              "\n",
              "  .colab-df-quickchart:hover {\n",
              "    background-color: var(--hover-bg-color);\n",
              "    box-shadow: 0 1px 2px rgba(60, 64, 67, 0.3), 0 1px 3px 1px rgba(60, 64, 67, 0.15);\n",
              "    fill: var(--button-hover-fill-color);\n",
              "  }\n",
              "\n",
              "  .colab-df-quickchart-complete:disabled,\n",
              "  .colab-df-quickchart-complete:disabled:hover {\n",
              "    background-color: var(--disabled-bg-color);\n",
              "    fill: var(--disabled-fill-color);\n",
              "    box-shadow: none;\n",
              "  }\n",
              "\n",
              "  .colab-df-spinner {\n",
              "    border: 2px solid var(--fill-color);\n",
              "    border-color: transparent;\n",
              "    border-bottom-color: var(--fill-color);\n",
              "    animation:\n",
              "      spin 1s steps(1) infinite;\n",
              "  }\n",
              "\n",
              "  @keyframes spin {\n",
              "    0% {\n",
              "      border-color: transparent;\n",
              "      border-bottom-color: var(--fill-color);\n",
              "      border-left-color: var(--fill-color);\n",
              "    }\n",
              "    20% {\n",
              "      border-color: transparent;\n",
              "      border-left-color: var(--fill-color);\n",
              "      border-top-color: var(--fill-color);\n",
              "    }\n",
              "    30% {\n",
              "      border-color: transparent;\n",
              "      border-left-color: var(--fill-color);\n",
              "      border-top-color: var(--fill-color);\n",
              "      border-right-color: var(--fill-color);\n",
              "    }\n",
              "    40% {\n",
              "      border-color: transparent;\n",
              "      border-right-color: var(--fill-color);\n",
              "      border-top-color: var(--fill-color);\n",
              "    }\n",
              "    60% {\n",
              "      border-color: transparent;\n",
              "      border-right-color: var(--fill-color);\n",
              "    }\n",
              "    80% {\n",
              "      border-color: transparent;\n",
              "      border-right-color: var(--fill-color);\n",
              "      border-bottom-color: var(--fill-color);\n",
              "    }\n",
              "    90% {\n",
              "      border-color: transparent;\n",
              "      border-bottom-color: var(--fill-color);\n",
              "    }\n",
              "  }\n",
              "</style>\n",
              "\n",
              "  <script>\n",
              "    async function quickchart(key) {\n",
              "      const quickchartButtonEl =\n",
              "        document.querySelector('#' + key + ' button');\n",
              "      quickchartButtonEl.disabled = true;  // To prevent multiple clicks.\n",
              "      quickchartButtonEl.classList.add('colab-df-spinner');\n",
              "      try {\n",
              "        const charts = await google.colab.kernel.invokeFunction(\n",
              "            'suggestCharts', [key], {});\n",
              "      } catch (error) {\n",
              "        console.error('Error during call to suggestCharts:', error);\n",
              "      }\n",
              "      quickchartButtonEl.classList.remove('colab-df-spinner');\n",
              "      quickchartButtonEl.classList.add('colab-df-quickchart-complete');\n",
              "    }\n",
              "    (() => {\n",
              "      let quickchartButtonEl =\n",
              "        document.querySelector('#df-9a3b0935-bd52-40e5-911c-63aa8bb5a3a6 button');\n",
              "      quickchartButtonEl.style.display =\n",
              "        google.colab.kernel.accessAllowed ? 'block' : 'none';\n",
              "    })();\n",
              "  </script>\n",
              "</div>\n",
              "    </div>\n",
              "  </div>\n"
            ]
          },
          "metadata": {},
          "execution_count": 1
        }
      ],
      "source": [
        "import numpy as np\n",
        "import seaborn as sns\n",
        "import pandas as pd\n",
        "import matplotlib.pyplot as plt\n",
        "from sklearn.cluster import KMeans\n",
        "\n",
        "df = pd.read_csv(\"/content/Clustering.csv\")\n",
        "df"
      ]
    },
    {
      "cell_type": "markdown",
      "source": [
        "Используйте представленные в практике методы кластеризации (помните, что кластеры строятся по классам).\n",
        "\n",
        "Несколько правил перед выполнением задания:\n",
        "0. Внимательно изучить практику 4!\n",
        "1. Служебные комментарии читать внимательно и не удалять\n",
        "2. Выполнить до 10-11-2023 (но не затягивать, таск не простой!)\n",
        "\n",
        "\n",
        "P.S. Мгномерные данные - данные, в которых количество колонок > 3\n",
        "\n",
        "P.S.S. Служебные комментарии - ячейки с описанием задачи в \"\"\" task description \"\"\"\n",
        "\n"
      ],
      "metadata": {
        "id": "0RiXq6go9DFf"
      }
    },
    {
      "cell_type": "code",
      "source": [
        "\"\"\"\n",
        "Предварительно - оптимизируйте ваш набор данных.\n",
        "1. Удалить лишние колонки (порядковые признаки, с множеством пропусков, с кучей выбросов, ....)\n",
        "2. Обработайте выбросы и пропуски (Для удобства - ваш коллега сделал библиотеку в pypi для анализа выбросов - подробности уточняйте в группе)\n",
        "3. Скопируйте df в df_cluster # df_cluster = df.copy()\n",
        "далее вы работаете с ним\n",
        "4. Выполните масштабирование числовых признаков StandatdScaler || MinMaxScaler, в df_cluser замените числовые признаки на отмасштабированные\n",
        "5. Для кагегориальных значений используйте LabelEncoder - https://scikit-learn.org/stable/modules/generated/sklearn.preprocessing.LabelEncoder.html. В df_cluster замените на encoded признаки\n",
        "\"\"\""
      ],
      "metadata": {
        "id": "l9GYic1SCFV6"
      },
      "execution_count": null,
      "outputs": []
    },
    {
      "cell_type": "code",
      "source": [
        "df_cluster = df.copy()"
      ],
      "metadata": {
        "id": "kU-u5CltPbJ-"
      },
      "execution_count": 2,
      "outputs": []
    },
    {
      "cell_type": "code",
      "source": [
        "df_cluster.drop(['Unnamed: 0'], axis= 1 , inplace= True )"
      ],
      "metadata": {
        "id": "emwADdn1RhuN"
      },
      "execution_count": 3,
      "outputs": []
    },
    {
      "cell_type": "code",
      "source": [
        "sns.boxplot(df_cluster)"
      ],
      "metadata": {
        "id": "2ssN-4SagYIA",
        "outputId": "b34ee679-b855-4c7e-f10a-52fb115d2269",
        "colab": {
          "base_uri": "https://localhost:8080/",
          "height": 447
        }
      },
      "execution_count": 4,
      "outputs": [
        {
          "output_type": "execute_result",
          "data": {
            "text/plain": [
              "<Axes: >"
            ]
          },
          "metadata": {},
          "execution_count": 4
        },
        {
          "output_type": "display_data",
          "data": {
            "text/plain": [
              "<Figure size 640x480 with 1 Axes>"
            ],
            "image/png": "[encoded data removed]"
          },
          "metadata": {}
        }
      ]
    },
    {
      "cell_type": "code",
      "source": [
        "df_cluster"
      ],
      "metadata": {
        "id": "T-5hFOb2gklZ",
        "outputId": "26fe9733-b16b-4bf3-a165-e2fa23422165",
        "colab": {
          "base_uri": "https://localhost:8080/",
          "height": 424
        }
      },
      "execution_count": 5,
      "outputs": [
        {
          "output_type": "execute_result",
          "data": {
            "text/plain": [
              "            x          y\n",
              "0    3.367596   3.536694\n",
              "1    2.667870   4.479919\n",
              "2    1.344171   3.282591\n",
              "3    1.389414   4.683227\n",
              "4    1.644644   4.320822\n",
              "..        ...        ...\n",
              "185  8.610144  10.429247\n",
              "186  6.775686  11.724382\n",
              "187  7.023465   9.632056\n",
              "188  6.115584   9.449803\n",
              "189  7.868889  12.894445\n",
              "\n",
              "[190 rows x 2 columns]"
            ],
            "text/html": [
              "\n",
              "  <div id=\"df-64a4499e-429b-4aba-9ceb-a2163b8fe6dd\" class=\"colab-df-container\">\n",
              "    <div>\n",
              "<style scoped>\n",
              "    .dataframe tbody tr th:only-of-type {\n",
              "        vertical-align: middle;\n",
              "    }\n",
              "\n",
              "    .dataframe tbody tr th {\n",
              "        vertical-align: top;\n",
              "    }\n",
              "\n",
              "    .dataframe thead th {\n",
              "        text-align: right;\n",
              "    }\n",
              "</style>\n",
              "<table border=\"1\" class=\"dataframe\">\n",
              "  <thead>\n",
              "    <tr style=\"text-align: right;\">\n",
              "      <th></th>\n",
              "      <th>x</th>\n",
              "      <th>y</th>\n",
              "    </tr>\n",
              "  </thead>\n",
              "  <tbody>\n",
              "    <tr>\n",
              "      <th>0</th>\n",
              "      <td>3.367596</td>\n",
              "      <td>3.536694</td>\n",
              "    </tr>\n",
              "    <tr>\n",
              "      <th>1</th>\n",
              "      <td>2.667870</td>\n",
              "      <td>4.479919</td>\n",
              "    </tr>\n",
              "    <tr>\n",
              "      <th>2</th>\n",
              "      <td>1.344171</td>\n",
              "      <td>3.282591</td>\n",
              "    </tr>\n",
              "    <tr>\n",
              "      <th>3</th>\n",
              "      <td>1.389414</td>\n",
              "      <td>4.683227</td>\n",
              "    </tr>\n",
              "    <tr>\n",
              "      <th>4</th>\n",
              "      <td>1.644644</td>\n",
              "      <td>4.320822</td>\n",
              "    </tr>\n",
              "    <tr>\n",
              "      <th>...</th>\n",
              "      <td>...</td>\n",
              "      <td>...</td>\n",
              "    </tr>\n",
              "    <tr>\n",
              "      <th>185</th>\n",
              "      <td>8.610144</td>\n",
              "      <td>10.429247</td>\n",
              "    </tr>\n",
              "    <tr>\n",
              "      <th>186</th>\n",
              "      <td>6.775686</td>\n",
              "      <td>11.724382</td>\n",
              "    </tr>\n",
              "    <tr>\n",
              "      <th>187</th>\n",
              "      <td>7.023465</td>\n",
              "      <td>9.632056</td>\n",
              "    </tr>\n",
              "    <tr>\n",
              "      <th>188</th>\n",
              "      <td>6.115584</td>\n",
              "      <td>9.449803</td>\n",
              "    </tr>\n",
              "    <tr>\n",
              "      <th>189</th>\n",
              "      <td>7.868889</td>\n",
              "      <td>12.894445</td>\n",
              "    </tr>\n",
              "  </tbody>\n",
              "</table>\n",
              "<p>190 rows × 2 columns</p>\n",
              "</div>\n",
              "    <div class=\"colab-df-buttons\">\n",
              "\n",
              "  <div class=\"colab-df-container\">\n",
              "    <button class=\"colab-df-convert\" onclick=\"convertToInteractive('df-64a4499e-429b-4aba-9ceb-a2163b8fe6dd')\"\n",
              "            title=\"Convert this dataframe to an interactive table.\"\n",
              "            style=\"display:none;\">\n",
              "\n",
              "  <svg xmlns=\"http://www.w3.org/2000/svg\" height=\"24px\" viewBox=\"0 -960 960 960\">\n",
              "    <path d=\"M120-120v-720h720v720H120Zm60-500h600v-160H180v160Zm220 220h160v-160H400v160Zm0 220h160v-160H400v160ZM180-400h160v-160H180v160Zm440 0h160v-160H620v160ZM180-180h160v-160H180v160Zm440 0h160v-160H620v160Z\"/>\n",
              "  </svg>\n",
              "    </button>\n",
              "\n",
              "  <style>\n",
              "    .colab-df-container {\n",
              "      display:flex;\n",
              "      gap: 12px;\n",
              "    }\n",
              "\n",
              "    .colab-df-convert {\n",
              "      background-color: #E8F0FE;\n",
              "      border: none;\n",
              "      border-radius: 50%;\n",
              "      cursor: pointer;\n",
              "      display: none;\n",
              "      fill: #1967D2;\n",
              "      height: 32px;\n",
              "      padding: 0 0 0 0;\n",
              "      width: 32px;\n",
              "    }\n",
              "\n",
              "    .colab-df-convert:hover {\n",
              "      background-color: #E2EBFA;\n",
              "      box-shadow: 0px 1px 2px rgba(60, 64, 67, 0.3), 0px 1px 3px 1px rgba(60, 64, 67, 0.15);\n",
              "      fill: #174EA6;\n",
              "    }\n",
              "\n",
              "    .colab-df-buttons div {\n",
              "      margin-bottom: 4px;\n",
              "    }\n",
              "\n",
              "    [theme=dark] .colab-df-convert {\n",
              "      background-color: #3B4455;\n",
              "      fill: #D2E3FC;\n",
              "    }\n",
              "\n",
              "    [theme=dark] .colab-df-convert:hover {\n",
              "      background-color: #434B5C;\n",
              "      box-shadow: 0px 1px 3px 1px rgba(0, 0, 0, 0.15);\n",
              "      filter: drop-shadow(0px 1px 2px rgba(0, 0, 0, 0.3));\n",
              "      fill: #FFFFFF;\n",
              "    }\n",
              "  </style>\n",
              "\n",
              "    <script>\n",
              "      const buttonEl =\n",
              "        document.querySelector('#df-64a4499e-429b-4aba-9ceb-a2163b8fe6dd button.colab-df-convert');\n",
              "      buttonEl.style.display =\n",
              "        google.colab.kernel.accessAllowed ? 'block' : 'none';\n",
              "\n",
              "      async function convertToInteractive(key) {\n",
              "        const element = document.querySelector('#df-64a4499e-429b-4aba-9ceb-a2163b8fe6dd');\n",
              "        const dataTable =\n",
              "          await google.colab.kernel.invokeFunction('convertToInteractive',\n",
              "                                                    [key], {});\n",
              "        if (!dataTable) return;\n",
              "\n",
              "        const docLinkHtml = 'Like what you see? Visit the ' +\n",
              "          '<a target=\"_blank\" href=https://colab.research.google.com/notebooks/data_table.ipynb>data table notebook</a>'\n",
              "          + ' to learn more about interactive tables.';\n",
              "        element.innerHTML = '';\n",
              "        dataTable['output_type'] = 'display_data';\n",
              "        await google.colab.output.renderOutput(dataTable, element);\n",
              "        const docLink = document.createElement('div');\n",
              "        docLink.innerHTML = docLinkHtml;\n",
              "        element.appendChild(docLink);\n",
              "      }\n",
              "    </script>\n",
              "  </div>\n",
              "\n",
              "\n",
              "<div id=\"df-066ae16e-2745-4ba7-94b7-efb3bf7ba801\">\n",
              "  <button class=\"colab-df-quickchart\" onclick=\"quickchart('df-066ae16e-2745-4ba7-94b7-efb3bf7ba801')\"\n",
              "            title=\"Suggest charts\"\n",
              "            style=\"display:none;\">\n",
              "\n",
              "<svg xmlns=\"http://www.w3.org/2000/svg\" height=\"24px\"viewBox=\"0 0 24 24\"\n",
              "     width=\"24px\">\n",
              "    <g>\n",
              "        <path d=\"M19 3H5c-1.1 0-2 .9-2 2v14c0 1.1.9 2 2 2h14c1.1 0 2-.9 2-2V5c0-1.1-.9-2-2-2zM9 17H7v-7h2v7zm4 0h-2V7h2v10zm4 0h-2v-4h2v4z\"/>\n",
              "    </g>\n",
              "</svg>\n",
              "  </button>\n",
              "\n",
              "<style>\n",
              "  .colab-df-quickchart {\n",
              "      --bg-color: #E8F0FE;\n",
              "      --fill-color: #1967D2;\n",
              "      --hover-bg-color: #E2EBFA;\n",
              "      --hover-fill-color: #174EA6;\n",
              "      --disabled-fill-color: #AAA;\n",
              "      --disabled-bg-color: #DDD;\n",
              "  }\n",
              "\n",
              "  [theme=dark] .colab-df-quickchart {\n",
              "      --bg-color: #3B4455;\n",
              "      --fill-color: #D2E3FC;\n",
              "      --hover-bg-color: #434B5C;\n",
              "      --hover-fill-color: #FFFFFF;\n",
              "      --disabled-bg-color: #3B4455;\n",
              "      --disabled-fill-color: #666;\n",
              "  }\n",
              "\n",
              "  .colab-df-quickchart {\n",
              "    background-color: var(--bg-color);\n",
              "    border: none;\n",
              "    border-radius: 50%;\n",
              "    cursor: pointer;\n",
              "    display: none;\n",
              "    fill: var(--fill-color);\n",
              "    height: 32px;\n",
              "    padding: 0;\n",
              "    width: 32px;\n",
              "  }\n",
              "\n",
              "  .colab-df-quickchart:hover {\n",
              "    background-color: var(--hover-bg-color);\n",
              "    box-shadow: 0 1px 2px rgba(60, 64, 67, 0.3), 0 1px 3px 1px rgba(60, 64, 67, 0.15);\n",
              "    fill: var(--button-hover-fill-color);\n",
              "  }\n",
              "\n",
              "  .colab-df-quickchart-complete:disabled,\n",
              "  .colab-df-quickchart-complete:disabled:hover {\n",
              "    background-color: var(--disabled-bg-color);\n",
              "    fill: var(--disabled-fill-color);\n",
              "    box-shadow: none;\n",
              "  }\n",
              "\n",
              "  .colab-df-spinner {\n",
              "    border: 2px solid var(--fill-color);\n",
              "    border-color: transparent;\n",
              "    border-bottom-color: var(--fill-color);\n",
              "    animation:\n",
              "      spin 1s steps(1) infinite;\n",
              "  }\n",
              "\n",
              "  @keyframes spin {\n",
              "    0% {\n",
              "      border-color: transparent;\n",
              "      border-bottom-color: var(--fill-color);\n",
              "      border-left-color: var(--fill-color);\n",
              "    }\n",
              "    20% {\n",
              "      border-color: transparent;\n",
              "      border-left-color: var(--fill-color);\n",
              "      border-top-color: var(--fill-color);\n",
              "    }\n",
              "    30% {\n",
              "      border-color: transparent;\n",
              "      border-left-color: var(--fill-color);\n",
              "      border-top-color: var(--fill-color);\n",
              "      border-right-color: var(--fill-color);\n",
              "    }\n",
              "    40% {\n",
              "      border-color: transparent;\n",
              "      border-right-color: var(--fill-color);\n",
              "      border-top-color: var(--fill-color);\n",
              "    }\n",
              "    60% {\n",
              "      border-color: transparent;\n",
              "      border-right-color: var(--fill-color);\n",
              "    }\n",
              "    80% {\n",
              "      border-color: transparent;\n",
              "      border-right-color: var(--fill-color);\n",
              "      border-bottom-color: var(--fill-color);\n",
              "    }\n",
              "    90% {\n",
              "      border-color: transparent;\n",
              "      border-bottom-color: var(--fill-color);\n",
              "    }\n",
              "  }\n",
              "</style>\n",
              "\n",
              "  <script>\n",
              "    async function quickchart(key) {\n",
              "      const quickchartButtonEl =\n",
              "        document.querySelector('#' + key + ' button');\n",
              "      quickchartButtonEl.disabled = true;  // To prevent multiple clicks.\n",
              "      quickchartButtonEl.classList.add('colab-df-spinner');\n",
              "      try {\n",
              "        const charts = await google.colab.kernel.invokeFunction(\n",
              "            'suggestCharts', [key], {});\n",
              "      } catch (error) {\n",
              "        console.error('Error during call to suggestCharts:', error);\n",
              "      }\n",
              "      quickchartButtonEl.classList.remove('colab-df-spinner');\n",
              "      quickchartButtonEl.classList.add('colab-df-quickchart-complete');\n",
              "    }\n",
              "    (() => {\n",
              "      let quickchartButtonEl =\n",
              "        document.querySelector('#df-066ae16e-2745-4ba7-94b7-efb3bf7ba801 button');\n",
              "      quickchartButtonEl.style.display =\n",
              "        google.colab.kernel.accessAllowed ? 'block' : 'none';\n",
              "    })();\n",
              "  </script>\n",
              "</div>\n",
              "    </div>\n",
              "  </div>\n"
            ]
          },
          "metadata": {},
          "execution_count": 5
        }
      ]
    },
    {
      "cell_type": "code",
      "source": [
        "df_cluster.hist()"
      ],
      "metadata": {
        "id": "jA-USNg_gqda",
        "outputId": "994a5705-f7b3-4e23-c505-11470a96430e",
        "colab": {
          "base_uri": "https://localhost:8080/",
          "height": 487
        }
      },
      "execution_count": 6,
      "outputs": [
        {
          "output_type": "execute_result",
          "data": {
            "text/plain": [
              "array([[<Axes: title={'center': 'x'}>, <Axes: title={'center': 'y'}>]],\n",
              "      dtype=object)"
            ]
          },
          "metadata": {},
          "execution_count": 6
        },
        {
          "output_type": "display_data",
          "data": {
            "text/plain": [
              "<Figure size 640x480 with 2 Axes>"
            ],
            "image/png": "[encoded data removed]"
          },
          "metadata": {}
        }
      ]
    },
    {
      "cell_type": "code",
      "source": [
        "from sklearn.preprocessing import MinMaxScaler, StandardScaler\n",
        "num_features = df_cluster.select_dtypes(include=['float64']).columns"
      ],
      "metadata": {
        "id": "X0yLmigWgwrr"
      },
      "execution_count": 9,
      "outputs": []
    },
    {
      "cell_type": "code",
      "source": [
        "scaler_minmax = MinMaxScaler()\n",
        "min_max_scaler = df_cluster.copy()\n",
        "min_max_scaler[num_features] = scaler_minmax.fit_transform(df_cluster[num_features])\n",
        "min_max_scaler[\"x\"].unique()"
      ],
      "metadata": {
        "id": "ed1iHwG8g5MB",
        "outputId": "ca76dee9-209a-406d-9cfe-151b1dfc32d0",
        "colab": {
          "base_uri": "https://localhost:8080/"
        }
      },
      "execution_count": 10,
      "outputs": [
        {
          "output_type": "execute_result",
          "data": {
            "text/plain": [
              "array([0.39625158, 0.33843583, 0.22906359, 0.23280182, 0.25389052,\n",
              "       0.18212001, 0.38770021, 0.10290838, 0.21204621, 0.18072669,\n",
              "       0.29684648, 0.11024952, 0.26249062, 0.28968614, 0.32098993,\n",
              "       0.16879138, 0.35027143, 0.34269169, 0.27605419, 0.38502061,\n",
              "       0.23893627, 0.28489946, 0.3266028 , 0.32849916, 0.20306065,\n",
              "       0.40741214, 0.25857869, 0.22970259, 0.13674898, 0.24193391,\n",
              "       0.32631489, 0.30289945, 0.28323116, 0.33515978, 0.41406849,\n",
              "       0.22342707, 0.13895249, 0.2706922 , 0.34093787, 0.16603197,\n",
              "       0.22022609, 0.2501325 , 0.1303623 , 0.27248077, 0.30416699,\n",
              "       0.26808861, 0.29399103, 0.31119397, 0.22361286, 0.27556969,\n",
              "       0.30762426, 0.32353084, 0.37794454, 0.1747661 , 0.12776834,\n",
              "       0.38478118, 0.18695936, 0.33865645, 0.20023727, 0.27231004,\n",
              "       0.18529645, 0.15237889, 0.21735152, 0.20295573, 0.35153526,\n",
              "       0.05881404, 0.3285402 , 0.26373556, 0.25654732, 0.24883287,\n",
              "       0.27182819, 0.        , 0.20053933, 0.3505963 , 0.29014467,\n",
              "       0.33762967, 0.25186935, 0.2471811 , 0.48321332, 0.20682305,\n",
              "       0.2004309 , 0.07212324, 0.20693686, 0.2404523 , 0.49082107,\n",
              "       0.30939434, 0.18918658, 0.35799661, 0.27058423, 0.21763548,\n",
              "       0.25773357, 0.40070644, 0.19826501, 0.31068503, 0.30881037,\n",
              "       0.40969469, 0.281024  , 0.25287228, 0.21807338, 0.28837931,\n",
              "       0.78227327, 0.83897704, 0.58255197, 0.82920907, 0.89282799,\n",
              "       0.94659087, 0.72485405, 0.92224971, 0.72982797, 0.6566042 ,\n",
              "       0.7881868 , 0.84311301, 0.83372626, 0.6691239 , 0.88121929,\n",
              "       0.92543196, 0.71459819, 0.67649378, 0.78977825, 0.72658271,\n",
              "       0.86311892, 0.74126336, 0.80775938, 0.79963779, 0.73890761,\n",
              "       0.80911697, 0.78992819, 0.77490835, 0.83999103, 0.86303561,\n",
              "       0.73648039, 0.76676093, 0.6961001 , 0.61297375, 0.80623109,\n",
              "       0.75589381, 0.72770805, 0.98486595, 0.63901042, 0.72132144,\n",
              "       0.70530709, 0.73025812, 0.66242358, 0.6897897 , 0.78099924,\n",
              "       0.87372832, 0.73724558, 0.95639571, 0.77698811, 0.69777289,\n",
              "       0.7490627 , 0.74262869, 0.72076785, 0.87095446, 0.7752524 ,\n",
              "       0.82248237, 0.81450133, 0.88849844, 0.73174949, 0.76743769,\n",
              "       0.74943532, 0.69401341, 0.75127869, 0.94547414, 0.76711379,\n",
              "       0.77547355, 0.75928733, 0.85322588, 0.7167761 , 0.73030374,\n",
              "       0.77541076, 0.77159533, 0.81146689, 0.82723562, 0.68329686,\n",
              "       0.81189003, 0.84819971, 0.75408164, 0.63353684, 0.68657666,\n",
              "       0.99706422, 0.85782423, 0.81877475, 1.        , 0.79067005,\n",
              "       0.82942361, 0.67784929, 0.69832234, 0.62330754, 0.76817647])"
            ]
          },
          "metadata": {},
          "execution_count": 10
        }
      ]
    },
    {
      "cell_type": "code",
      "source": [
        "scaler_minmax = MinMaxScaler()\n",
        "min_max_scaler = df_cluster.copy()\n",
        "min_max_scaler[num_features] = scaler_minmax.fit_transform(df_cluster[num_features])\n",
        "min_max_scaler[\"y\"].unique()"
      ],
      "metadata": {
        "id": "RPzUcT2ChY3O",
        "outputId": "1a459c9e-0170-4a6b-92ec-030360f6a52d",
        "colab": {
          "base_uri": "https://localhost:8080/"
        }
      },
      "execution_count": 11,
      "outputs": [
        {
          "output_type": "execute_result",
          "data": {
            "text/plain": [
              "array([0.30015553, 0.37069713, 0.28115178, 0.38590205, 0.35879868,\n",
              "       0.23411598, 0.3118275 , 0.22956582, 0.24508207, 0.38327183,\n",
              "       0.28657339, 0.29040704, 0.20904037, 0.43325995, 0.17217808,\n",
              "       0.27814383, 0.17992266, 0.2145896 , 0.37490906, 0.26091939,\n",
              "       0.16602868, 0.20233244, 0.31071817, 0.20260431, 0.1430975 ,\n",
              "       0.33631439, 0.18972523, 0.29829322, 0.2059705 , 0.25697395,\n",
              "       0.28112247, 0.09826658, 0.29147865, 0.32634387, 0.3319979 ,\n",
              "       0.29178413, 0.27632471, 0.26912994, 0.24913486, 0.34135157,\n",
              "       0.26900555, 0.21750092, 0.24826883, 0.10737993, 0.27066502,\n",
              "       0.22064581, 0.13641741, 0.17829785, 0.31647698, 0.36392147,\n",
              "       0.31905058, 0.22196027, 0.14069347, 0.38807108, 0.3382015 ,\n",
              "       0.30460182, 0.        , 0.28275619, 0.17738452, 0.22547301,\n",
              "       0.25664374, 0.36625799, 0.22148416, 0.2327414 , 0.39806382,\n",
              "       0.36929048, 0.3177132 , 0.45424553, 0.19722834, 0.33118452,\n",
              "       0.20274652, 0.31700179, 0.23479602, 0.3745059 , 0.17993298,\n",
              "       0.14213885, 0.16458693, 0.29812498, 0.32942003, 0.21668969,\n",
              "       0.31848616, 0.22839093, 0.22558339, 0.13488274, 0.23467085,\n",
              "       0.18120799, 0.2904474 , 0.27165418, 0.32623836, 0.19647658,\n",
              "       0.3305573 , 0.27397371, 0.22166607, 0.25178282, 0.29226972,\n",
              "       0.34728196, 0.27554444, 0.29948927, 0.32403324, 0.39655493,\n",
              "       0.70975768, 0.78193625, 0.66657636, 0.71421478, 0.72440523,\n",
              "       0.79528774, 0.84998694, 0.5913952 , 0.72429796, 0.69892473,\n",
              "       0.80090572, 0.5876636 , 0.8236428 , 0.79736855, 0.79250335,\n",
              "       0.63858737, 0.84293277, 0.87721414, 0.75631746, 0.75492046,\n",
              "       0.79597314, 0.78268329, 0.86870344, 0.76694939, 0.84172152,\n",
              "       0.76164338, 0.98250713, 0.71669957, 0.79026526, 0.87829962,\n",
              "       0.82735344, 0.76850351, 0.85553049, 0.90191101, 0.78562492,\n",
              "       0.77845641, 0.75450241, 0.81692156, 0.65821873, 0.74297378,\n",
              "       0.73674247, 0.97186952, 0.83492536, 0.75523353, 0.88509193,\n",
              "       0.72089889, 0.90499668, 0.83308583, 0.84331272, 0.74885812,\n",
              "       0.71076247, 0.82906193, 0.77563257, 0.90330374, 0.83638502,\n",
              "       0.83144886, 0.80674906, 0.84231346, 0.708654  , 0.76096675,\n",
              "       0.92730345, 0.65837645, 0.83998098, 0.63097465, 0.69391219,\n",
              "       0.8386006 , 0.75236039, 0.84240922, 0.78604638, 0.73386947,\n",
              "       0.70827412, 0.60663289, 0.81704447, 0.57921335, 0.74009083,\n",
              "       0.76882152, 0.83380705, 0.72493966, 0.76235729, 0.81278342,\n",
              "       0.75482137, 0.74801826, 0.8287334 , 0.74351556, 0.71268234,\n",
              "       0.81563362, 0.91249376, 0.7560135 , 0.74238326, 1.        ])"
            ]
          },
          "metadata": {},
          "execution_count": 11
        }
      ]
    },
    {
      "cell_type": "code",
      "source": [
        "plt.scatter(df[\"x\"], df[\"y\"])\n",
        "plt.xlabel('x')\n",
        "plt.ylabel('y')\n",
        "plt.title('Распределение данных в двумерном пространстве')"
      ],
      "metadata": {
        "id": "EErjxoNFhrVn",
        "outputId": "550a5a0e-9ac0-4132-c99b-de5ff2a84c35",
        "colab": {
          "base_uri": "https://localhost:8080/",
          "height": 489
        }
      },
      "execution_count": 12,
      "outputs": [
        {
          "output_type": "execute_result",
          "data": {
            "text/plain": [
              "Text(0.5, 1.0, 'Распределение данных в двумерном пространстве')"
            ]
          },
          "metadata": {},
          "execution_count": 12
        },
        {
          "output_type": "display_data",
          "data": {
            "text/plain": [
              "<Figure size 640x480 with 1 Axes>"
            ],
            "image/png": "[encoded data removed]"
          },
          "metadata": {}
        }
      ]
    },
    {
      "cell_type": "code",
      "source": [
        "\"\"\"\n",
        "Здесь k-means и метрики. Используйте несколько вариантов метрик (из практики), для поиска оптимального числа кластеров.\n",
        "\"\"\""
      ],
      "metadata": {
        "id": "mURhmgww9rrQ"
      },
      "execution_count": null,
      "outputs": []
    },
    {
      "cell_type": "code",
      "source": [
        "X = df[[\"x\", \"y\"]]\n",
        "X"
      ],
      "metadata": {
        "id": "-O77d8oxPdKX",
        "outputId": "6f518699-4d62-4128-abe2-245fad6769dd",
        "colab": {
          "base_uri": "https://localhost:8080/",
          "height": 424
        }
      },
      "execution_count": 13,
      "outputs": [
        {
          "output_type": "execute_result",
          "data": {
            "text/plain": [
              "            x          y\n",
              "0    3.367596   3.536694\n",
              "1    2.667870   4.479919\n",
              "2    1.344171   3.282591\n",
              "3    1.389414   4.683227\n",
              "4    1.644644   4.320822\n",
              "..        ...        ...\n",
              "185  8.610144  10.429247\n",
              "186  6.775686  11.724382\n",
              "187  7.023465   9.632056\n",
              "188  6.115584   9.449803\n",
              "189  7.868889  12.894445\n",
              "\n",
              "[190 rows x 2 columns]"
            ],
            "text/html": [
              "\n",
              "  <div id=\"df-82c1adb0-78f4-4e2b-b0b6-32b317320201\" class=\"colab-df-container\">\n",
              "    <div>\n",
              "<style scoped>\n",
              "    .dataframe tbody tr th:only-of-type {\n",
              "        vertical-align: middle;\n",
              "    }\n",
              "\n",
              "    .dataframe tbody tr th {\n",
              "        vertical-align: top;\n",
              "    }\n",
              "\n",
              "    .dataframe thead th {\n",
              "        text-align: right;\n",
              "    }\n",
              "</style>\n",
              "<table border=\"1\" class=\"dataframe\">\n",
              "  <thead>\n",
              "    <tr style=\"text-align: right;\">\n",
              "      <th></th>\n",
              "      <th>x</th>\n",
              "      <th>y</th>\n",
              "    </tr>\n",
              "  </thead>\n",
              "  <tbody>\n",
              "    <tr>\n",
              "      <th>0</th>\n",
              "      <td>3.367596</td>\n",
              "      <td>3.536694</td>\n",
              "    </tr>\n",
              "    <tr>\n",
              "      <th>1</th>\n",
              "      <td>2.667870</td>\n",
              "      <td>4.479919</td>\n",
              "    </tr>\n",
              "    <tr>\n",
              "      <th>2</th>\n",
              "      <td>1.344171</td>\n",
              "      <td>3.282591</td>\n",
              "    </tr>\n",
              "    <tr>\n",
              "      <th>3</th>\n",
              "      <td>1.389414</td>\n",
              "      <td>4.683227</td>\n",
              "    </tr>\n",
              "    <tr>\n",
              "      <th>4</th>\n",
              "      <td>1.644644</td>\n",
              "      <td>4.320822</td>\n",
              "    </tr>\n",
              "    <tr>\n",
              "      <th>...</th>\n",
              "      <td>...</td>\n",
              "      <td>...</td>\n",
              "    </tr>\n",
              "    <tr>\n",
              "      <th>185</th>\n",
              "      <td>8.610144</td>\n",
              "      <td>10.429247</td>\n",
              "    </tr>\n",
              "    <tr>\n",
              "      <th>186</th>\n",
              "      <td>6.775686</td>\n",
              "      <td>11.724382</td>\n",
              "    </tr>\n",
              "    <tr>\n",
              "      <th>187</th>\n",
              "      <td>7.023465</td>\n",
              "      <td>9.632056</td>\n",
              "    </tr>\n",
              "    <tr>\n",
              "      <th>188</th>\n",
              "      <td>6.115584</td>\n",
              "      <td>9.449803</td>\n",
              "    </tr>\n",
              "    <tr>\n",
              "      <th>189</th>\n",
              "      <td>7.868889</td>\n",
              "      <td>12.894445</td>\n",
              "    </tr>\n",
              "  </tbody>\n",
              "</table>\n",
              "<p>190 rows × 2 columns</p>\n",
              "</div>\n",
              "    <div class=\"colab-df-buttons\">\n",
              "\n",
              "  <div class=\"colab-df-container\">\n",
              "    <button class=\"colab-df-convert\" onclick=\"convertToInteractive('df-82c1adb0-78f4-4e2b-b0b6-32b317320201')\"\n",
              "            title=\"Convert this dataframe to an interactive table.\"\n",
              "            style=\"display:none;\">\n",
              "\n",
              "  <svg xmlns=\"http://www.w3.org/2000/svg\" height=\"24px\" viewBox=\"0 -960 960 960\">\n",
              "    <path d=\"M120-120v-720h720v720H120Zm60-500h600v-160H180v160Zm220 220h160v-160H400v160Zm0 220h160v-160H400v160ZM180-400h160v-160H180v160Zm440 0h160v-160H620v160ZM180-180h160v-160H180v160Zm440 0h160v-160H620v160Z\"/>\n",
              "  </svg>\n",
              "    </button>\n",
              "\n",
              "  <style>\n",
              "    .colab-df-container {\n",
              "      display:flex;\n",
              "      gap: 12px;\n",
              "    }\n",
              "\n",
              "    .colab-df-convert {\n",
              "      background-color: #E8F0FE;\n",
              "      border: none;\n",
              "      border-radius: 50%;\n",
              "      cursor: pointer;\n",
              "      display: none;\n",
              "      fill: #1967D2;\n",
              "      height: 32px;\n",
              "      padding: 0 0 0 0;\n",
              "      width: 32px;\n",
              "    }\n",
              "\n",
              "    .colab-df-convert:hover {\n",
              "      background-color: #E2EBFA;\n",
              "      box-shadow: 0px 1px 2px rgba(60, 64, 67, 0.3), 0px 1px 3px 1px rgba(60, 64, 67, 0.15);\n",
              "      fill: #174EA6;\n",
              "    }\n",
              "\n",
              "    .colab-df-buttons div {\n",
              "      margin-bottom: 4px;\n",
              "    }\n",
              "\n",
              "    [theme=dark] .colab-df-convert {\n",
              "      background-color: #3B4455;\n",
              "      fill: #D2E3FC;\n",
              "    }\n",
              "\n",
              "    [theme=dark] .colab-df-convert:hover {\n",
              "      background-color: #434B5C;\n",
              "      box-shadow: 0px 1px 3px 1px rgba(0, 0, 0, 0.15);\n",
              "      filter: drop-shadow(0px 1px 2px rgba(0, 0, 0, 0.3));\n",
              "      fill: #FFFFFF;\n",
              "    }\n",
              "  </style>\n",
              "\n",
              "    <script>\n",
              "      const buttonEl =\n",
              "        document.querySelector('#df-82c1adb0-78f4-4e2b-b0b6-32b317320201 button.colab-df-convert');\n",
              "      buttonEl.style.display =\n",
              "        google.colab.kernel.accessAllowed ? 'block' : 'none';\n",
              "\n",
              "      async function convertToInteractive(key) {\n",
              "        const element = document.querySelector('#df-82c1adb0-78f4-4e2b-b0b6-32b317320201');\n",
              "        const dataTable =\n",
              "          await google.colab.kernel.invokeFunction('convertToInteractive',\n",
              "                                                    [key], {});\n",
              "        if (!dataTable) return;\n",
              "\n",
              "        const docLinkHtml = 'Like what you see? Visit the ' +\n",
              "          '<a target=\"_blank\" href=https://colab.research.google.com/notebooks/data_table.ipynb>data table notebook</a>'\n",
              "          + ' to learn more about interactive tables.';\n",
              "        element.innerHTML = '';\n",
              "        dataTable['output_type'] = 'display_data';\n",
              "        await google.colab.output.renderOutput(dataTable, element);\n",
              "        const docLink = document.createElement('div');\n",
              "        docLink.innerHTML = docLinkHtml;\n",
              "        element.appendChild(docLink);\n",
              "      }\n",
              "    </script>\n",
              "  </div>\n",
              "\n",
              "\n",
              "<div id=\"df-bd5cc41d-8fde-4aad-85cb-66bdde59401f\">\n",
              "  <button class=\"colab-df-quickchart\" onclick=\"quickchart('df-bd5cc41d-8fde-4aad-85cb-66bdde59401f')\"\n",
              "            title=\"Suggest charts\"\n",
              "            style=\"display:none;\">\n",
              "\n",
              "<svg xmlns=\"http://www.w3.org/2000/svg\" height=\"24px\"viewBox=\"0 0 24 24\"\n",
              "     width=\"24px\">\n",
              "    <g>\n",
              "        <path d=\"M19 3H5c-1.1 0-2 .9-2 2v14c0 1.1.9 2 2 2h14c1.1 0 2-.9 2-2V5c0-1.1-.9-2-2-2zM9 17H7v-7h2v7zm4 0h-2V7h2v10zm4 0h-2v-4h2v4z\"/>\n",
              "    </g>\n",
              "</svg>\n",
              "  </button>\n",
              "\n",
              "<style>\n",
              "  .colab-df-quickchart {\n",
              "      --bg-color: #E8F0FE;\n",
              "      --fill-color: #1967D2;\n",
              "      --hover-bg-color: #E2EBFA;\n",
              "      --hover-fill-color: #174EA6;\n",
              "      --disabled-fill-color: #AAA;\n",
              "      --disabled-bg-color: #DDD;\n",
              "  }\n",
              "\n",
              "  [theme=dark] .colab-df-quickchart {\n",
              "      --bg-color: #3B4455;\n",
              "      --fill-color: #D2E3FC;\n",
              "      --hover-bg-color: #434B5C;\n",
              "      --hover-fill-color: #FFFFFF;\n",
              "      --disabled-bg-color: #3B4455;\n",
              "      --disabled-fill-color: #666;\n",
              "  }\n",
              "\n",
              "  .colab-df-quickchart {\n",
              "    background-color: var(--bg-color);\n",
              "    border: none;\n",
              "    border-radius: 50%;\n",
              "    cursor: pointer;\n",
              "    display: none;\n",
              "    fill: var(--fill-color);\n",
              "    height: 32px;\n",
              "    padding: 0;\n",
              "    width: 32px;\n",
              "  }\n",
              "\n",
              "  .colab-df-quickchart:hover {\n",
              "    background-color: var(--hover-bg-color);\n",
              "    box-shadow: 0 1px 2px rgba(60, 64, 67, 0.3), 0 1px 3px 1px rgba(60, 64, 67, 0.15);\n",
              "    fill: var(--button-hover-fill-color);\n",
              "  }\n",
              "\n",
              "  .colab-df-quickchart-complete:disabled,\n",
              "  .colab-df-quickchart-complete:disabled:hover {\n",
              "    background-color: var(--disabled-bg-color);\n",
              "    fill: var(--disabled-fill-color);\n",
              "    box-shadow: none;\n",
              "  }\n",
              "\n",
              "  .colab-df-spinner {\n",
              "    border: 2px solid var(--fill-color);\n",
              "    border-color: transparent;\n",
              "    border-bottom-color: var(--fill-color);\n",
              "    animation:\n",
              "      spin 1s steps(1) infinite;\n",
              "  }\n",
              "\n",
              "  @keyframes spin {\n",
              "    0% {\n",
              "      border-color: transparent;\n",
              "      border-bottom-color: var(--fill-color);\n",
              "      border-left-color: var(--fill-color);\n",
              "    }\n",
              "    20% {\n",
              "      border-color: transparent;\n",
              "      border-left-color: var(--fill-color);\n",
              "      border-top-color: var(--fill-color);\n",
              "    }\n",
              "    30% {\n",
              "      border-color: transparent;\n",
              "      border-left-color: var(--fill-color);\n",
              "      border-top-color: var(--fill-color);\n",
              "      border-right-color: var(--fill-color);\n",
              "    }\n",
              "    40% {\n",
              "      border-color: transparent;\n",
              "      border-right-color: var(--fill-color);\n",
              "      border-top-color: var(--fill-color);\n",
              "    }\n",
              "    60% {\n",
              "      border-color: transparent;\n",
              "      border-right-color: var(--fill-color);\n",
              "    }\n",
              "    80% {\n",
              "      border-color: transparent;\n",
              "      border-right-color: var(--fill-color);\n",
              "      border-bottom-color: var(--fill-color);\n",
              "    }\n",
              "    90% {\n",
              "      border-color: transparent;\n",
              "      border-bottom-color: var(--fill-color);\n",
              "    }\n",
              "  }\n",
              "</style>\n",
              "\n",
              "  <script>\n",
              "    async function quickchart(key) {\n",
              "      const quickchartButtonEl =\n",
              "        document.querySelector('#' + key + ' button');\n",
              "      quickchartButtonEl.disabled = true;  // To prevent multiple clicks.\n",
              "      quickchartButtonEl.classList.add('colab-df-spinner');\n",
              "      try {\n",
              "        const charts = await google.colab.kernel.invokeFunction(\n",
              "            'suggestCharts', [key], {});\n",
              "      } catch (error) {\n",
              "        console.error('Error during call to suggestCharts:', error);\n",
              "      }\n",
              "      quickchartButtonEl.classList.remove('colab-df-spinner');\n",
              "      quickchartButtonEl.classList.add('colab-df-quickchart-complete');\n",
              "    }\n",
              "    (() => {\n",
              "      let quickchartButtonEl =\n",
              "        document.querySelector('#df-bd5cc41d-8fde-4aad-85cb-66bdde59401f button');\n",
              "      quickchartButtonEl.style.display =\n",
              "        google.colab.kernel.accessAllowed ? 'block' : 'none';\n",
              "    })();\n",
              "  </script>\n",
              "</div>\n",
              "    </div>\n",
              "  </div>\n"
            ]
          },
          "metadata": {},
          "execution_count": 13
        }
      ]
    },
    {
      "cell_type": "code",
      "source": [
        "# Создаем экземпляр модели K-Means\n",
        "kmeans = KMeans(n_clusters=2)\n",
        "\n",
        "# Производим кластеризацию данных\n",
        "kmeans.fit(X)\n",
        "\n",
        "# Получаем центры кластеров и прогнозируем принадлежность к кластерам\n",
        "cluster_centers = kmeans.cluster_centers_\n",
        "cluster_labels = kmeans.labels_\n",
        ""
      ],
      "metadata": {
        "id": "qbmCD4V4RiKW",
        "outputId": "013177a1-a0fc-45d3-b8c9-61610af00398",
        "colab": {
          "base_uri": "https://localhost:8080/"
        }
      },
      "execution_count": 14,
      "outputs": [
        {
          "output_type": "stream",
          "name": "stderr",
          "text": [
            "/usr/local/lib/python3.10/dist-packages/sklearn/cluster/_kmeans.py:870: FutureWarning: The default value of `n_init` will change from 10 to 'auto' in 1.4. Set the value of `n_init` explicitly to suppress the warning\n",
            "  warnings.warn(\n"
          ]
        }
      ]
    },
    {
      "cell_type": "code",
      "source": [
        "\"\"\"\n",
        "Здесь визуализация кластеров k-means\n",
        "(Для многомерных данных используйте сжатие методами (на выбор один из) PCA/t-TSNE/umap до 2,3 точек - влияет на вид гарфика, если 2 точки - то двумерный, если три точки - то трехмерный)\n",
        "\"\"\""
      ],
      "metadata": {
        "id": "aIOA-AjO9638"
      },
      "execution_count": null,
      "outputs": []
    },
    {
      "cell_type": "code",
      "source": [
        "# Визуализируем результаты кластеризации двумерной кластеризации\n",
        "plt.scatter(df[\"x\"], df[\"y\"], c=cluster_labels, s=50, cmap='viridis')\n",
        "plt.scatter(cluster_centers[:, 0], cluster_centers[:, 1], c='red', s=200, marker='X')\n",
        "plt.xlabel('x')\n",
        "plt.ylabel('y')\n",
        "plt.title('Результаты кластеризации K-Means')\n",
        "plt.show()"
      ],
      "metadata": {
        "id": "1qiEimlgPd1F",
        "outputId": "3f42badf-6e9a-42c9-8094-773d0e4d4411",
        "colab": {
          "base_uri": "https://localhost:8080/",
          "height": 472
        }
      },
      "execution_count": 15,
      "outputs": [
        {
          "output_type": "display_data",
          "data": {
            "text/plain": [
              "<Figure size 640x480 with 1 Axes>"
            ],
            "image/png": "[encoded data removed]"
          },
          "metadata": {}
        }
      ]
    },
    {
      "cell_type": "code",
      "source": [
        "# Создаем экземпляр модели K-Means\n",
        "kmeans = KMeans(n_clusters=4)\n",
        "\n",
        "# Производим кластеризацию данных\n",
        "kmeans.fit(X)\n",
        "\n",
        "# Получаем центры кластеров и прогнозируем принадлежность к кластерам\n",
        "cluster_centers = kmeans.cluster_centers_\n",
        "cluster_labels = kmeans.labels_\n",
        "# Визуализируем результаты кластеризации\n",
        "plt.scatter(df[\"x\"], df[\"y\"], c=cluster_labels, s=50, cmap='viridis')\n",
        "plt.scatter(cluster_centers[:, 0], cluster_centers[:, 1], c='red', s=200, marker='X')\n",
        "plt.xlabel('x')\n",
        "plt.ylabel('y')\n",
        "plt.title('Результаты кластеризации K-Means')\n",
        "plt.show()"
      ],
      "metadata": {
        "id": "MkQ6Fr63Rie7",
        "outputId": "85ac8bb6-633c-4255-cad4-a908218b4908",
        "colab": {
          "base_uri": "https://localhost:8080/",
          "height": 527
        }
      },
      "execution_count": 16,
      "outputs": [
        {
          "output_type": "stream",
          "name": "stderr",
          "text": [
            "/usr/local/lib/python3.10/dist-packages/sklearn/cluster/_kmeans.py:870: FutureWarning: The default value of `n_init` will change from 10 to 'auto' in 1.4. Set the value of `n_init` explicitly to suppress the warning\n",
            "  warnings.warn(\n"
          ]
        },
        {
          "output_type": "display_data",
          "data": {
            "text/plain": [
              "<Figure size 640x480 with 1 Axes>"
            ],
            "image/png": "[encoded data removed]"
          },
          "metadata": {}
        }
      ]
    },
    {
      "cell_type": "code",
      "source": [
        "\"\"\"\n",
        "Здесь DBSCAN и метрики. Используйте поиск оптимального EPS. Объясните почему?\n",
        "\"\"\""
      ],
      "metadata": {
        "id": "OFn8nTne9wZm"
      },
      "execution_count": null,
      "outputs": []
    },
    {
      "cell_type": "code",
      "source": [
        "# your_code here"
      ],
      "metadata": {
        "id": "TVxZBHVcPeOm"
      },
      "execution_count": null,
      "outputs": []
    },
    {
      "cell_type": "code",
      "source": [],
      "metadata": {
        "id": "YF-BNGiKRi1U"
      },
      "execution_count": null,
      "outputs": []
    },
    {
      "cell_type": "code",
      "source": [
        "\"\"\"\n",
        "Здесь визуализация кластеров DBSCAN\n",
        "(Для многомерных данных используйте сжатие методами (на выбор один из) PCA/t-TSNE/umap до 2,3 точек - влияет на вид гарфика, если 2 точки - то двумерный, если три точки - то трехмерный)\n",
        "\"\"\""
      ],
      "metadata": {
        "id": "rExlsKgQ9_vr"
      },
      "execution_count": null,
      "outputs": []
    },
    {
      "cell_type": "code",
      "source": [
        "from sklearn.preprocessing import StandardScaler\n",
        "from sklearn.cluster import DBSCAN\n",
        "\n",
        "x_scaler = StandardScaler().fit_transform(X)\n",
        "\n",
        "# Инициализация и обучение модели DBSCAN\n",
        "dbscan = DBSCAN(eps=0.35, min_samples=5)\n",
        "dbscan.fit(x_scaler)\n",
        "\n",
        "# Получение меток кластеров для каждой точки (-1 означает выбросы)\n",
        "labels = dbscan.labels_\n",
        "\n",
        "# Визуализация результатов, темные точки - выбросы\n",
        "plt.scatter(X.to_numpy()[:, 0], X.to_numpy()[:, 1], c=labels, cmap='viridis')\n",
        "plt.title('DBSCAN Clustering')\n",
        "plt.show()"
      ],
      "metadata": {
        "id": "XRmrp3QJPetF",
        "outputId": "f8e56ba1-e25e-4c8e-9c83-3d4c288c07b3",
        "colab": {
          "base_uri": "https://localhost:8080/",
          "height": 452
        }
      },
      "execution_count": 17,
      "outputs": [
        {
          "output_type": "display_data",
          "data": {
            "text/plain": [
              "<Figure size 640x480 with 1 Axes>"
            ],
            "image/png": "[encoded data removed]"
          },
          "metadata": {}
        }
      ]
    },
    {
      "cell_type": "markdown",
      "source": [],
      "metadata": {
        "id": "dnSXv07Lkvdw"
      }
    },
    {
      "cell_type": "code",
      "source": [
        "\"\"\"\n",
        "Здесь иерархическая кластеризация и метрики\n",
        "\"\"\""
      ],
      "metadata": {
        "id": "VOJwk8Pw9zIm"
      },
      "execution_count": null,
      "outputs": []
    },
    {
      "cell_type": "code",
      "source": [
        "from sklearn.cluster import AgglomerativeClustering\n",
        "from scipy.cluster.hierarchy import dendrogram\n",
        "\n",
        "# Инициализация и обучение модели иерархической кластеризации\n",
        "agg_clustering = AgglomerativeClustering(n_clusters=4)\n",
        "agg_clustering.fit(X)\n",
        "\n",
        "# Визуализация дендрограммы\n",
        "from scipy.cluster import hierarchy\n",
        "linkage_matrix = hierarchy.linkage(X, method='ward')\n",
        "dendrogram(linkage_matrix)\n",
        "plt.title('x')\n",
        "plt.show()\n",
        "\n",
        "# Визуализация результатов кластеризации\n",
        "plt.scatter(X.to_numpy()[:, 0], X.to_numpy()[:, 1], c=agg_clustering.labels_, cmap='viridis')\n",
        "plt.scatter(cluster_centers[:, 0], cluster_centers[:, 1], c='red', s=200, marker='X')\n",
        "plt.title('y')\n",
        "plt.show()"
      ],
      "metadata": {
        "id": "g_0FI5o6RjK8",
        "outputId": "64d172a0-11d6-4140-d902-1ba6cc863f98",
        "colab": {
          "base_uri": "https://localhost:8080/",
          "height": 887
        }
      },
      "execution_count": 18,
      "outputs": [
        {
          "output_type": "display_data",
          "data": {
            "text/plain": [
              "<Figure size 640x480 with 1 Axes>"
            ],
            "image/png": "[encoded data removed]"
          },
          "metadata": {}
        },
        {
          "output_type": "display_data",
          "data": {
            "text/plain": [
              "<Figure size 640x480 with 1 Axes>"
            ],
            "image/png": "[encoded data removed]"
          },
          "metadata": {}
        }
      ]
    },
    {
      "cell_type": "code",
      "source": [
        "# your_code here"
      ],
      "metadata": {
        "id": "41otDBM2PfEP"
      },
      "execution_count": null,
      "outputs": []
    },
    {
      "cell_type": "code",
      "source": [],
      "metadata": {
        "id": "fb30H4awRjfQ"
      },
      "execution_count": null,
      "outputs": []
    },
    {
      "cell_type": "code",
      "source": [
        "\"\"\"\n",
        "Здесь визуализация кластеров иерархической кластеризации\n",
        "(Для многомерных данных используйте сжатие методами (на выбор один из) PCA/t-TSNE/umap до 2,3 точек - влияет на вид гарфика, если 2 точки - то двумерный, если три точки - то трехмерный)\n",
        "\"\"\""
      ],
      "metadata": {
        "id": "Bv7A729L-Csh"
      },
      "execution_count": null,
      "outputs": []
    },
    {
      "cell_type": "code",
      "source": [
        "# your_code here"
      ],
      "metadata": {
        "id": "7475JNZJPfki"
      },
      "execution_count": null,
      "outputs": []
    },
    {
      "cell_type": "code",
      "source": [],
      "metadata": {
        "id": "IpHpWTVWRj-Q"
      },
      "execution_count": null,
      "outputs": []
    },
    {
      "cell_type": "code",
      "source": [
        "!pip install ydata-profiling"
      ],
      "metadata": {
        "id": "yZqfH8KMI0sA"
      },
      "execution_count": null,
      "outputs": []
    },
    {
      "cell_type": "markdown",
      "source": [
        "Выполните профилирование набора данных относительно кластеров, используя оригинальный набор данных.\n",
        "\n",
        "P.S. задание для всех"
      ],
      "metadata": {
        "id": "F6luFBUtI1Xf"
      }
    },
    {
      "cell_type": "code",
      "source": [
        "#\n",
        "#### Приветсвуется ручной анилиз - гарфики, статистика по разным кластерам, как альтернативный путь решения задачи\n",
        "#\n",
        "\n",
        "# 1. в оригинальный набор данных добавьте колонки с кластерами и работаем с ним\n",
        "\n",
        "\"\"\"\n",
        "df['kmeans_cluster'] = kmeans_cluster.labels_\n",
        "df['dbsscan_cluster'] = dbsscan_cluster.labels_\n",
        "...\n",
        "\"\"\"\n",
        "\n",
        "# 2. Выполните фильтрацию относительно каждого кластера и каждого алгоритма (Внимание, кластер -1 не учитываем в DBSSCAN, тк это выбросы. То есть, точки не вошли ни в одни кластер)\n",
        "\"\"\"\n",
        "P.S за пример взять 1 тип кластеров, выполните для всех (если кластеров больше 3, разрешено использовать первые три кластера для анализа)\n",
        "\n",
        "from ydata_profiling import ProfileReport\n",
        "df['dbscan_labels'] = dbscan.labels_\n",
        "\n",
        "uniq_labels = tuple(set(dbscan.labels_))\n",
        "\n",
        "print(uniq_labels)\n",
        "\n",
        "\"\"\"\n",
        "\n",
        "# 3. Выполните профилирование\n",
        "\"\"\"\n",
        "На отдельной ячейке выполните профилирование для каждого кластера и каждого алгоритма\n",
        "\n",
        "from ydata_profiling import ProfileReport\n",
        "\n",
        "ProfileReport(df[df.dbscan_labels == 0]) # фильтруем по кластерам из uniq_labels, получаем красивый результат :)\n",
        "\n",
        "\"\"\"\n",
        "\n",
        "# 4. Проанализируйте результат по кластерам. Какие переменные попали в каждый кластер, их различия (статистические), графики.\n",
        "# Постарайтесь объяснить различия \"фактически\".\n",
        "# Например, видно, что в кластер 1 у пациентов возраст выше в среднем и в медиане, чем в остальных, что может свидетельствоать о влиянии возраста на кластер №()\n",
        "\n"
      ],
      "metadata": {
        "id": "-XEU0mlPLCMP"
      },
      "execution_count": null,
      "outputs": []
    },
    {
      "cell_type": "code",
      "source": [
        "# your_code here"
      ],
      "metadata": {
        "id": "i5qS3TZsPgOK"
      },
      "execution_count": null,
      "outputs": []
    }
  ]
}