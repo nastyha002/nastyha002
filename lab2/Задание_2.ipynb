{
  "nbformat": 4,
  "nbformat_minor": 0,
  "metadata": {
    "colab": {
      "provenance": [],
      "include_colab_link": true
    },
    "kernelspec": {
      "name": "python3",
      "display_name": "Python 3"
    },
    "language_info": {
      "name": "python"
    }
  },
  "cells": [
    {
      "cell_type": "markdown",
      "metadata": {
        "id": "view-in-github",
        "colab_type": "text"
      },
      "source": [
        "<a href=\"https://colab.research.google.com/github/nastyha002/nastyha002/blob/main/lab2/%D0%97%D0%B0%D0%B4%D0%B0%D0%BD%D0%B8%D0%B5_2.ipynb\" target=\"_parent\"><img src=\"https://colab.research.google.com/assets/colab-badge.svg\" alt=\"Open In Colab\"/></a>"
      ]
    },
    {
      "cell_type": "markdown",
      "source": [
        "#Задание по практике 2"
      ],
      "metadata": {
        "id": "_dGfjiUjUNab"
      }
    },
    {
      "cell_type": "code",
      "source": [
        "!pip install pandas\n",
        "!pip install seaborn"
      ],
      "metadata": {
        "id": "wXXP-hXKrxPW",
        "outputId": "db9e144f-4e9d-4cca-9f66-6aeb2f726bcd",
        "colab": {
          "base_uri": "https://localhost:8080/"
        }
      },
      "execution_count": null,
      "outputs": [
        {
          "output_type": "stream",
          "name": "stdout",
          "text": [
            "Requirement already satisfied: pandas in /usr/local/lib/python3.10/dist-packages (1.5.3)\n",
            "Requirement already satisfied: python-dateutil>=2.8.1 in /usr/local/lib/python3.10/dist-packages (from pandas) (2.8.2)\n",
            "Requirement already satisfied: pytz>=2020.1 in /usr/local/lib/python3.10/dist-packages (from pandas) (2023.3.post1)\n",
            "Requirement already satisfied: numpy>=1.21.0 in /usr/local/lib/python3.10/dist-packages (from pandas) (1.23.5)\n",
            "Requirement already satisfied: six>=1.5 in /usr/local/lib/python3.10/dist-packages (from python-dateutil>=2.8.1->pandas) (1.16.0)\n",
            "Requirement already satisfied: seaborn in /usr/local/lib/python3.10/dist-packages (0.12.2)\n",
            "Requirement already satisfied: numpy!=1.24.0,>=1.17 in /usr/local/lib/python3.10/dist-packages (from seaborn) (1.23.5)\n",
            "Requirement already satisfied: pandas>=0.25 in /usr/local/lib/python3.10/dist-packages (from seaborn) (1.5.3)\n",
            "Requirement already satisfied: matplotlib!=3.6.1,>=3.1 in /usr/local/lib/python3.10/dist-packages (from seaborn) (3.7.1)\n",
            "Requirement already satisfied: contourpy>=1.0.1 in /usr/local/lib/python3.10/dist-packages (from matplotlib!=3.6.1,>=3.1->seaborn) (1.1.1)\n",
            "Requirement already satisfied: cycler>=0.10 in /usr/local/lib/python3.10/dist-packages (from matplotlib!=3.6.1,>=3.1->seaborn) (0.12.1)\n",
            "Requirement already satisfied: fonttools>=4.22.0 in /usr/local/lib/python3.10/dist-packages (from matplotlib!=3.6.1,>=3.1->seaborn) (4.43.1)\n",
            "Requirement already satisfied: kiwisolver>=1.0.1 in /usr/local/lib/python3.10/dist-packages (from matplotlib!=3.6.1,>=3.1->seaborn) (1.4.5)\n",
            "Requirement already satisfied: packaging>=20.0 in /usr/local/lib/python3.10/dist-packages (from matplotlib!=3.6.1,>=3.1->seaborn) (23.2)\n",
            "Requirement already satisfied: pillow>=6.2.0 in /usr/local/lib/python3.10/dist-packages (from matplotlib!=3.6.1,>=3.1->seaborn) (9.4.0)\n",
            "Requirement already satisfied: pyparsing>=2.3.1 in /usr/local/lib/python3.10/dist-packages (from matplotlib!=3.6.1,>=3.1->seaborn) (3.1.1)\n",
            "Requirement already satisfied: python-dateutil>=2.7 in /usr/local/lib/python3.10/dist-packages (from matplotlib!=3.6.1,>=3.1->seaborn) (2.8.2)\n",
            "Requirement already satisfied: pytz>=2020.1 in /usr/local/lib/python3.10/dist-packages (from pandas>=0.25->seaborn) (2023.3.post1)\n",
            "Requirement already satisfied: six>=1.5 in /usr/local/lib/python3.10/dist-packages (from python-dateutil>=2.7->matplotlib!=3.6.1,>=3.1->seaborn) (1.16.0)\n"
          ]
        }
      ]
    },
    {
      "cell_type": "code",
      "execution_count": null,
      "metadata": {
        "id": "7u0VPzz-UKNu"
      },
      "outputs": [],
      "source": [
        "import pandas as pd\n",
        "import seaborn as sns\n",
        "import matplotlib.pyplot as plt"
      ]
    },
    {
      "cell_type": "markdown",
      "source": [
        "##Введение в описательную статистику"
      ],
      "metadata": {
        "id": "yKPA-E-VVSS-"
      }
    },
    {
      "cell_type": "markdown",
      "source": [
        "1. Выберите категориальную целевую переменную (**Y**)\n",
        "\n",
        "2. Выберите переменную для анализа относительно категории (**X**)\n",
        "\n",
        "3. Выведитие обобщенную статистическую информацию переменной (**X**)\n",
        "\n",
        "2. Вычислите среднее, медиану, моду, минимум, максимум, стандартное отклонение относительно целевой пременной из файла Classification datasets в соответствии с вашим вариантом\n",
        "\n",
        "3. Сделайте вывод относительно полученных результатов\n",
        "\n",
        "p.s если у вас нет категориальных признаков - преобразуйте любой числовой в категориальный (https://pandas.pydata.org/docs/reference/api/pandas.cut.html). Важно **не** использовать преобразованный Y вместе с этим же X (то есть, если вы преобразовали возраст в категорию, то вы не моежет использовать возраст в качестве X и возраст категорию в качестве Y)"
      ],
      "metadata": {
        "id": "Rrr4WPcGUwOx"
      }
    },
    {
      "cell_type": "code",
      "source": [
        "\n",
        "df = pd.read_csv('/content/Global YouTube Statistics.csv', encoding='windows-1252')\n",
        "df"
      ],
      "metadata": {
        "id": "wZiCpTwgUuYw",
        "outputId": "4d4f6258-3ffb-45e7-f5d7-36e946c3dc43",
        "colab": {
          "base_uri": "https://localhost:8080/",
          "height": 617
        }
      },
      "execution_count": null,
      "outputs": [
        {
          "output_type": "execute_result",
          "data": {
            "text/plain": [
              "     rank                    Youtuber  subscribers   video views  \\\n",
              "0       1                    T-Series    245000000  2.280000e+11   \n",
              "1       2              YouTube Movies    170000000  0.000000e+00   \n",
              "2       3                     MrBeast    166000000  2.836884e+10   \n",
              "3       4  Cocomelon - Nursery Rhymes    162000000  1.640000e+11   \n",
              "4       5                   SET India    159000000  1.480000e+11   \n",
              "..    ...                         ...          ...           ...   \n",
              "990   991               Natan por Aï¿     12300000  9.029610e+09   \n",
              "991   992    Free Fire India Official     12300000  1.674410e+09   \n",
              "992   993                       Panda     12300000  2.214684e+09   \n",
              "993   994                 RobTopGames     12300000  3.741235e+08   \n",
              "994   995                Make Joke Of     12300000  2.129774e+09   \n",
              "\n",
              "             category                       Title  uploads         Country  \\\n",
              "0               Music                    T-Series    20082           India   \n",
              "1    Film & Animation               youtubemovies        1   United States   \n",
              "2       Entertainment                     MrBeast      741   United States   \n",
              "3           Education  Cocomelon - Nursery Rhymes      966   United States   \n",
              "4               Shows                   SET India   116536           India   \n",
              "..                ...                         ...      ...             ...   \n",
              "990            Sports               Natan por Aï¿     1200          Brazil   \n",
              "991    People & Blogs    Free Fire India Official     1500           India   \n",
              "992               NaN                 HybridPanda     2452  United Kingdom   \n",
              "993            Gaming                 RobTopGames       39          Sweden   \n",
              "994            Comedy                Make Joke Of       62           India   \n",
              "\n",
              "    Abbreviation   channel_type  ...  subscribers_for_last_30_days  \\\n",
              "0             IN          Music  ...                     2000000.0   \n",
              "1             US          Games  ...                           NaN   \n",
              "2             US  Entertainment  ...                     8000000.0   \n",
              "3             US      Education  ...                     1000000.0   \n",
              "4             IN  Entertainment  ...                     1000000.0   \n",
              "..           ...            ...  ...                           ...   \n",
              "990           BR  Entertainment  ...                      700000.0   \n",
              "991           IN          Games  ...                      300000.0   \n",
              "992           GB          Games  ...                        1000.0   \n",
              "993           SE          Games  ...                      100000.0   \n",
              "994           IN         Comedy  ...                      100000.0   \n",
              "\n",
              "     created_year  created_month  created_date  \\\n",
              "0          2006.0            Mar          13.0   \n",
              "1          2006.0            Mar           5.0   \n",
              "2          2012.0            Feb          20.0   \n",
              "3          2006.0            Sep           1.0   \n",
              "4          2006.0            Sep          20.0   \n",
              "..            ...            ...           ...   \n",
              "990        2017.0            Feb          12.0   \n",
              "991        2018.0            Sep          14.0   \n",
              "992        2006.0            Sep          11.0   \n",
              "993        2012.0            May           9.0   \n",
              "994        2017.0            Aug           1.0   \n",
              "\n",
              "     Gross tertiary education enrollment (%)    Population  Unemployment rate  \\\n",
              "0                                       28.1  1.366418e+09               5.36   \n",
              "1                                       88.2  3.282395e+08              14.70   \n",
              "2                                       88.2  3.282395e+08              14.70   \n",
              "3                                       88.2  3.282395e+08              14.70   \n",
              "4                                       28.1  1.366418e+09               5.36   \n",
              "..                                       ...           ...                ...   \n",
              "990                                     51.3  2.125594e+08              12.08   \n",
              "991                                     28.1  1.366418e+09               5.36   \n",
              "992                                     60.0  6.683440e+07               3.85   \n",
              "993                                     67.0  1.028545e+07               6.48   \n",
              "994                                     28.1  1.366418e+09               5.36   \n",
              "\n",
              "     Urban_population   Latitude  Longitude  \n",
              "0         471031528.0  20.593684  78.962880  \n",
              "1         270663028.0  37.090240 -95.712891  \n",
              "2         270663028.0  37.090240 -95.712891  \n",
              "3         270663028.0  37.090240 -95.712891  \n",
              "4         471031528.0  20.593684  78.962880  \n",
              "..                ...        ...        ...  \n",
              "990       183241641.0 -14.235004 -51.925280  \n",
              "991       471031528.0  20.593684  78.962880  \n",
              "992        55908316.0  55.378051  -3.435973  \n",
              "993         9021165.0  60.128161  18.643501  \n",
              "994       471031528.0  20.593684  78.962880  \n",
              "\n",
              "[995 rows x 28 columns]"
            ],
            "text/html": [
              "\n",
              "  <div id=\"df-3115c0b0-32f8-481b-87d4-e82bcbda5d31\" class=\"colab-df-container\">\n",
              "    <div>\n",
              "<style scoped>\n",
              "    .dataframe tbody tr th:only-of-type {\n",
              "        vertical-align: middle;\n",
              "    }\n",
              "\n",
              "    .dataframe tbody tr th {\n",
              "        vertical-align: top;\n",
              "    }\n",
              "\n",
              "    .dataframe thead th {\n",
              "        text-align: right;\n",
              "    }\n",
              "</style>\n",
              "<table border=\"1\" class=\"dataframe\">\n",
              "  <thead>\n",
              "    <tr style=\"text-align: right;\">\n",
              "      <th></th>\n",
              "      <th>rank</th>\n",
              "      <th>Youtuber</th>\n",
              "      <th>subscribers</th>\n",
              "      <th>video views</th>\n",
              "      <th>category</th>\n",
              "      <th>Title</th>\n",
              "      <th>uploads</th>\n",
              "      <th>Country</th>\n",
              "      <th>Abbreviation</th>\n",
              "      <th>channel_type</th>\n",
              "      <th>...</th>\n",
              "      <th>subscribers_for_last_30_days</th>\n",
              "      <th>created_year</th>\n",
              "      <th>created_month</th>\n",
              "      <th>created_date</th>\n",
              "      <th>Gross tertiary education enrollment (%)</th>\n",
              "      <th>Population</th>\n",
              "      <th>Unemployment rate</th>\n",
              "      <th>Urban_population</th>\n",
              "      <th>Latitude</th>\n",
              "      <th>Longitude</th>\n",
              "    </tr>\n",
              "  </thead>\n",
              "  <tbody>\n",
              "    <tr>\n",
              "      <th>0</th>\n",
              "      <td>1</td>\n",
              "      <td>T-Series</td>\n",
              "      <td>245000000</td>\n",
              "      <td>2.280000e+11</td>\n",
              "      <td>Music</td>\n",
              "      <td>T-Series</td>\n",
              "      <td>20082</td>\n",
              "      <td>India</td>\n",
              "      <td>IN</td>\n",
              "      <td>Music</td>\n",
              "      <td>...</td>\n",
              "      <td>2000000.0</td>\n",
              "      <td>2006.0</td>\n",
              "      <td>Mar</td>\n",
              "      <td>13.0</td>\n",
              "      <td>28.1</td>\n",
              "      <td>1.366418e+09</td>\n",
              "      <td>5.36</td>\n",
              "      <td>471031528.0</td>\n",
              "      <td>20.593684</td>\n",
              "      <td>78.962880</td>\n",
              "    </tr>\n",
              "    <tr>\n",
              "      <th>1</th>\n",
              "      <td>2</td>\n",
              "      <td>YouTube Movies</td>\n",
              "      <td>170000000</td>\n",
              "      <td>0.000000e+00</td>\n",
              "      <td>Film &amp; Animation</td>\n",
              "      <td>youtubemovies</td>\n",
              "      <td>1</td>\n",
              "      <td>United States</td>\n",
              "      <td>US</td>\n",
              "      <td>Games</td>\n",
              "      <td>...</td>\n",
              "      <td>NaN</td>\n",
              "      <td>2006.0</td>\n",
              "      <td>Mar</td>\n",
              "      <td>5.0</td>\n",
              "      <td>88.2</td>\n",
              "      <td>3.282395e+08</td>\n",
              "      <td>14.70</td>\n",
              "      <td>270663028.0</td>\n",
              "      <td>37.090240</td>\n",
              "      <td>-95.712891</td>\n",
              "    </tr>\n",
              "    <tr>\n",
              "      <th>2</th>\n",
              "      <td>3</td>\n",
              "      <td>MrBeast</td>\n",
              "      <td>166000000</td>\n",
              "      <td>2.836884e+10</td>\n",
              "      <td>Entertainment</td>\n",
              "      <td>MrBeast</td>\n",
              "      <td>741</td>\n",
              "      <td>United States</td>\n",
              "      <td>US</td>\n",
              "      <td>Entertainment</td>\n",
              "      <td>...</td>\n",
              "      <td>8000000.0</td>\n",
              "      <td>2012.0</td>\n",
              "      <td>Feb</td>\n",
              "      <td>20.0</td>\n",
              "      <td>88.2</td>\n",
              "      <td>3.282395e+08</td>\n",
              "      <td>14.70</td>\n",
              "      <td>270663028.0</td>\n",
              "      <td>37.090240</td>\n",
              "      <td>-95.712891</td>\n",
              "    </tr>\n",
              "    <tr>\n",
              "      <th>3</th>\n",
              "      <td>4</td>\n",
              "      <td>Cocomelon - Nursery Rhymes</td>\n",
              "      <td>162000000</td>\n",
              "      <td>1.640000e+11</td>\n",
              "      <td>Education</td>\n",
              "      <td>Cocomelon - Nursery Rhymes</td>\n",
              "      <td>966</td>\n",
              "      <td>United States</td>\n",
              "      <td>US</td>\n",
              "      <td>Education</td>\n",
              "      <td>...</td>\n",
              "      <td>1000000.0</td>\n",
              "      <td>2006.0</td>\n",
              "      <td>Sep</td>\n",
              "      <td>1.0</td>\n",
              "      <td>88.2</td>\n",
              "      <td>3.282395e+08</td>\n",
              "      <td>14.70</td>\n",
              "      <td>270663028.0</td>\n",
              "      <td>37.090240</td>\n",
              "      <td>-95.712891</td>\n",
              "    </tr>\n",
              "    <tr>\n",
              "      <th>4</th>\n",
              "      <td>5</td>\n",
              "      <td>SET India</td>\n",
              "      <td>159000000</td>\n",
              "      <td>1.480000e+11</td>\n",
              "      <td>Shows</td>\n",
              "      <td>SET India</td>\n",
              "      <td>116536</td>\n",
              "      <td>India</td>\n",
              "      <td>IN</td>\n",
              "      <td>Entertainment</td>\n",
              "      <td>...</td>\n",
              "      <td>1000000.0</td>\n",
              "      <td>2006.0</td>\n",
              "      <td>Sep</td>\n",
              "      <td>20.0</td>\n",
              "      <td>28.1</td>\n",
              "      <td>1.366418e+09</td>\n",
              "      <td>5.36</td>\n",
              "      <td>471031528.0</td>\n",
              "      <td>20.593684</td>\n",
              "      <td>78.962880</td>\n",
              "    </tr>\n",
              "    <tr>\n",
              "      <th>...</th>\n",
              "      <td>...</td>\n",
              "      <td>...</td>\n",
              "      <td>...</td>\n",
              "      <td>...</td>\n",
              "      <td>...</td>\n",
              "      <td>...</td>\n",
              "      <td>...</td>\n",
              "      <td>...</td>\n",
              "      <td>...</td>\n",
              "      <td>...</td>\n",
              "      <td>...</td>\n",
              "      <td>...</td>\n",
              "      <td>...</td>\n",
              "      <td>...</td>\n",
              "      <td>...</td>\n",
              "      <td>...</td>\n",
              "      <td>...</td>\n",
              "      <td>...</td>\n",
              "      <td>...</td>\n",
              "      <td>...</td>\n",
              "      <td>...</td>\n",
              "    </tr>\n",
              "    <tr>\n",
              "      <th>990</th>\n",
              "      <td>991</td>\n",
              "      <td>Natan por Aï¿</td>\n",
              "      <td>12300000</td>\n",
              "      <td>9.029610e+09</td>\n",
              "      <td>Sports</td>\n",
              "      <td>Natan por Aï¿</td>\n",
              "      <td>1200</td>\n",
              "      <td>Brazil</td>\n",
              "      <td>BR</td>\n",
              "      <td>Entertainment</td>\n",
              "      <td>...</td>\n",
              "      <td>700000.0</td>\n",
              "      <td>2017.0</td>\n",
              "      <td>Feb</td>\n",
              "      <td>12.0</td>\n",
              "      <td>51.3</td>\n",
              "      <td>2.125594e+08</td>\n",
              "      <td>12.08</td>\n",
              "      <td>183241641.0</td>\n",
              "      <td>-14.235004</td>\n",
              "      <td>-51.925280</td>\n",
              "    </tr>\n",
              "    <tr>\n",
              "      <th>991</th>\n",
              "      <td>992</td>\n",
              "      <td>Free Fire India Official</td>\n",
              "      <td>12300000</td>\n",
              "      <td>1.674410e+09</td>\n",
              "      <td>People &amp; Blogs</td>\n",
              "      <td>Free Fire India Official</td>\n",
              "      <td>1500</td>\n",
              "      <td>India</td>\n",
              "      <td>IN</td>\n",
              "      <td>Games</td>\n",
              "      <td>...</td>\n",
              "      <td>300000.0</td>\n",
              "      <td>2018.0</td>\n",
              "      <td>Sep</td>\n",
              "      <td>14.0</td>\n",
              "      <td>28.1</td>\n",
              "      <td>1.366418e+09</td>\n",
              "      <td>5.36</td>\n",
              "      <td>471031528.0</td>\n",
              "      <td>20.593684</td>\n",
              "      <td>78.962880</td>\n",
              "    </tr>\n",
              "    <tr>\n",
              "      <th>992</th>\n",
              "      <td>993</td>\n",
              "      <td>Panda</td>\n",
              "      <td>12300000</td>\n",
              "      <td>2.214684e+09</td>\n",
              "      <td>NaN</td>\n",
              "      <td>HybridPanda</td>\n",
              "      <td>2452</td>\n",
              "      <td>United Kingdom</td>\n",
              "      <td>GB</td>\n",
              "      <td>Games</td>\n",
              "      <td>...</td>\n",
              "      <td>1000.0</td>\n",
              "      <td>2006.0</td>\n",
              "      <td>Sep</td>\n",
              "      <td>11.0</td>\n",
              "      <td>60.0</td>\n",
              "      <td>6.683440e+07</td>\n",
              "      <td>3.85</td>\n",
              "      <td>55908316.0</td>\n",
              "      <td>55.378051</td>\n",
              "      <td>-3.435973</td>\n",
              "    </tr>\n",
              "    <tr>\n",
              "      <th>993</th>\n",
              "      <td>994</td>\n",
              "      <td>RobTopGames</td>\n",
              "      <td>12300000</td>\n",
              "      <td>3.741235e+08</td>\n",
              "      <td>Gaming</td>\n",
              "      <td>RobTopGames</td>\n",
              "      <td>39</td>\n",
              "      <td>Sweden</td>\n",
              "      <td>SE</td>\n",
              "      <td>Games</td>\n",
              "      <td>...</td>\n",
              "      <td>100000.0</td>\n",
              "      <td>2012.0</td>\n",
              "      <td>May</td>\n",
              "      <td>9.0</td>\n",
              "      <td>67.0</td>\n",
              "      <td>1.028545e+07</td>\n",
              "      <td>6.48</td>\n",
              "      <td>9021165.0</td>\n",
              "      <td>60.128161</td>\n",
              "      <td>18.643501</td>\n",
              "    </tr>\n",
              "    <tr>\n",
              "      <th>994</th>\n",
              "      <td>995</td>\n",
              "      <td>Make Joke Of</td>\n",
              "      <td>12300000</td>\n",
              "      <td>2.129774e+09</td>\n",
              "      <td>Comedy</td>\n",
              "      <td>Make Joke Of</td>\n",
              "      <td>62</td>\n",
              "      <td>India</td>\n",
              "      <td>IN</td>\n",
              "      <td>Comedy</td>\n",
              "      <td>...</td>\n",
              "      <td>100000.0</td>\n",
              "      <td>2017.0</td>\n",
              "      <td>Aug</td>\n",
              "      <td>1.0</td>\n",
              "      <td>28.1</td>\n",
              "      <td>1.366418e+09</td>\n",
              "      <td>5.36</td>\n",
              "      <td>471031528.0</td>\n",
              "      <td>20.593684</td>\n",
              "      <td>78.962880</td>\n",
              "    </tr>\n",
              "  </tbody>\n",
              "</table>\n",
              "<p>995 rows × 28 columns</p>\n",
              "</div>\n",
              "    <div class=\"colab-df-buttons\">\n",
              "\n",
              "  <div class=\"colab-df-container\">\n",
              "    <button class=\"colab-df-convert\" onclick=\"convertToInteractive('df-3115c0b0-32f8-481b-87d4-e82bcbda5d31')\"\n",
              "            title=\"Convert this dataframe to an interactive table.\"\n",
              "            style=\"display:none;\">\n",
              "\n",
              "  <svg xmlns=\"http://www.w3.org/2000/svg\" height=\"24px\" viewBox=\"0 -960 960 960\">\n",
              "    <path d=\"M120-120v-720h720v720H120Zm60-500h600v-160H180v160Zm220 220h160v-160H400v160Zm0 220h160v-160H400v160ZM180-400h160v-160H180v160Zm440 0h160v-160H620v160ZM180-180h160v-160H180v160Zm440 0h160v-160H620v160Z\"/>\n",
              "  </svg>\n",
              "    </button>\n",
              "\n",
              "  <style>\n",
              "    .colab-df-container {\n",
              "      display:flex;\n",
              "      gap: 12px;\n",
              "    }\n",
              "\n",
              "    .colab-df-convert {\n",
              "      background-color: #E8F0FE;\n",
              "      border: none;\n",
              "      border-radius: 50%;\n",
              "      cursor: pointer;\n",
              "      display: none;\n",
              "      fill: #1967D2;\n",
              "      height: 32px;\n",
              "      padding: 0 0 0 0;\n",
              "      width: 32px;\n",
              "    }\n",
              "\n",
              "    .colab-df-convert:hover {\n",
              "      background-color: #E2EBFA;\n",
              "      box-shadow: 0px 1px 2px rgba(60, 64, 67, 0.3), 0px 1px 3px 1px rgba(60, 64, 67, 0.15);\n",
              "      fill: #174EA6;\n",
              "    }\n",
              "\n",
              "    .colab-df-buttons div {\n",
              "      margin-bottom: 4px;\n",
              "    }\n",
              "\n",
              "    [theme=dark] .colab-df-convert {\n",
              "      background-color: #3B4455;\n",
              "      fill: #D2E3FC;\n",
              "    }\n",
              "\n",
              "    [theme=dark] .colab-df-convert:hover {\n",
              "      background-color: #434B5C;\n",
              "      box-shadow: 0px 1px 3px 1px rgba(0, 0, 0, 0.15);\n",
              "      filter: drop-shadow(0px 1px 2px rgba(0, 0, 0, 0.3));\n",
              "      fill: #FFFFFF;\n",
              "    }\n",
              "  </style>\n",
              "\n",
              "    <script>\n",
              "      const buttonEl =\n",
              "        document.querySelector('#df-3115c0b0-32f8-481b-87d4-e82bcbda5d31 button.colab-df-convert');\n",
              "      buttonEl.style.display =\n",
              "        google.colab.kernel.accessAllowed ? 'block' : 'none';\n",
              "\n",
              "      async function convertToInteractive(key) {\n",
              "        const element = document.querySelector('#df-3115c0b0-32f8-481b-87d4-e82bcbda5d31');\n",
              "        const dataTable =\n",
              "          await google.colab.kernel.invokeFunction('convertToInteractive',\n",
              "                                                    [key], {});\n",
              "        if (!dataTable) return;\n",
              "\n",
              "        const docLinkHtml = 'Like what you see? Visit the ' +\n",
              "          '<a target=\"_blank\" href=https://colab.research.google.com/notebooks/data_table.ipynb>data table notebook</a>'\n",
              "          + ' to learn more about interactive tables.';\n",
              "        element.innerHTML = '';\n",
              "        dataTable['output_type'] = 'display_data';\n",
              "        await google.colab.output.renderOutput(dataTable, element);\n",
              "        const docLink = document.createElement('div');\n",
              "        docLink.innerHTML = docLinkHtml;\n",
              "        element.appendChild(docLink);\n",
              "      }\n",
              "    </script>\n",
              "  </div>\n",
              "\n",
              "\n",
              "<div id=\"df-a74f6e01-1195-40b6-bf9e-b70e7d25e180\">\n",
              "  <button class=\"colab-df-quickchart\" onclick=\"quickchart('df-a74f6e01-1195-40b6-bf9e-b70e7d25e180')\"\n",
              "            title=\"Suggest charts.\"\n",
              "            style=\"display:none;\">\n",
              "\n",
              "<svg xmlns=\"http://www.w3.org/2000/svg\" height=\"24px\"viewBox=\"0 0 24 24\"\n",
              "     width=\"24px\">\n",
              "    <g>\n",
              "        <path d=\"M19 3H5c-1.1 0-2 .9-2 2v14c0 1.1.9 2 2 2h14c1.1 0 2-.9 2-2V5c0-1.1-.9-2-2-2zM9 17H7v-7h2v7zm4 0h-2V7h2v10zm4 0h-2v-4h2v4z\"/>\n",
              "    </g>\n",
              "</svg>\n",
              "  </button>\n",
              "\n",
              "<style>\n",
              "  .colab-df-quickchart {\n",
              "      --bg-color: #E8F0FE;\n",
              "      --fill-color: #1967D2;\n",
              "      --hover-bg-color: #E2EBFA;\n",
              "      --hover-fill-color: #174EA6;\n",
              "      --disabled-fill-color: #AAA;\n",
              "      --disabled-bg-color: #DDD;\n",
              "  }\n",
              "\n",
              "  [theme=dark] .colab-df-quickchart {\n",
              "      --bg-color: #3B4455;\n",
              "      --fill-color: #D2E3FC;\n",
              "      --hover-bg-color: #434B5C;\n",
              "      --hover-fill-color: #FFFFFF;\n",
              "      --disabled-bg-color: #3B4455;\n",
              "      --disabled-fill-color: #666;\n",
              "  }\n",
              "\n",
              "  .colab-df-quickchart {\n",
              "    background-color: var(--bg-color);\n",
              "    border: none;\n",
              "    border-radius: 50%;\n",
              "    cursor: pointer;\n",
              "    display: none;\n",
              "    fill: var(--fill-color);\n",
              "    height: 32px;\n",
              "    padding: 0;\n",
              "    width: 32px;\n",
              "  }\n",
              "\n",
              "  .colab-df-quickchart:hover {\n",
              "    background-color: var(--hover-bg-color);\n",
              "    box-shadow: 0 1px 2px rgba(60, 64, 67, 0.3), 0 1px 3px 1px rgba(60, 64, 67, 0.15);\n",
              "    fill: var(--button-hover-fill-color);\n",
              "  }\n",
              "\n",
              "  .colab-df-quickchart-complete:disabled,\n",
              "  .colab-df-quickchart-complete:disabled:hover {\n",
              "    background-color: var(--disabled-bg-color);\n",
              "    fill: var(--disabled-fill-color);\n",
              "    box-shadow: none;\n",
              "  }\n",
              "\n",
              "  .colab-df-spinner {\n",
              "    border: 2px solid var(--fill-color);\n",
              "    border-color: transparent;\n",
              "    border-bottom-color: var(--fill-color);\n",
              "    animation:\n",
              "      spin 1s steps(1) infinite;\n",
              "  }\n",
              "\n",
              "  @keyframes spin {\n",
              "    0% {\n",
              "      border-color: transparent;\n",
              "      border-bottom-color: var(--fill-color);\n",
              "      border-left-color: var(--fill-color);\n",
              "    }\n",
              "    20% {\n",
              "      border-color: transparent;\n",
              "      border-left-color: var(--fill-color);\n",
              "      border-top-color: var(--fill-color);\n",
              "    }\n",
              "    30% {\n",
              "      border-color: transparent;\n",
              "      border-left-color: var(--fill-color);\n",
              "      border-top-color: var(--fill-color);\n",
              "      border-right-color: var(--fill-color);\n",
              "    }\n",
              "    40% {\n",
              "      border-color: transparent;\n",
              "      border-right-color: var(--fill-color);\n",
              "      border-top-color: var(--fill-color);\n",
              "    }\n",
              "    60% {\n",
              "      border-color: transparent;\n",
              "      border-right-color: var(--fill-color);\n",
              "    }\n",
              "    80% {\n",
              "      border-color: transparent;\n",
              "      border-right-color: var(--fill-color);\n",
              "      border-bottom-color: var(--fill-color);\n",
              "    }\n",
              "    90% {\n",
              "      border-color: transparent;\n",
              "      border-bottom-color: var(--fill-color);\n",
              "    }\n",
              "  }\n",
              "</style>\n",
              "\n",
              "  <script>\n",
              "    async function quickchart(key) {\n",
              "      const quickchartButtonEl =\n",
              "        document.querySelector('#' + key + ' button');\n",
              "      quickchartButtonEl.disabled = true;  // To prevent multiple clicks.\n",
              "      quickchartButtonEl.classList.add('colab-df-spinner');\n",
              "      try {\n",
              "        const charts = await google.colab.kernel.invokeFunction(\n",
              "            'suggestCharts', [key], {});\n",
              "      } catch (error) {\n",
              "        console.error('Error during call to suggestCharts:', error);\n",
              "      }\n",
              "      quickchartButtonEl.classList.remove('colab-df-spinner');\n",
              "      quickchartButtonEl.classList.add('colab-df-quickchart-complete');\n",
              "    }\n",
              "    (() => {\n",
              "      let quickchartButtonEl =\n",
              "        document.querySelector('#df-a74f6e01-1195-40b6-bf9e-b70e7d25e180 button');\n",
              "      quickchartButtonEl.style.display =\n",
              "        google.colab.kernel.accessAllowed ? 'block' : 'none';\n",
              "    })();\n",
              "  </script>\n",
              "</div>\n",
              "    </div>\n",
              "  </div>\n"
            ]
          },
          "metadata": {},
          "execution_count": 10
        }
      ]
    },
    {
      "cell_type": "code",
      "source": [
        "describe =  df.describe()\n",
        "describe"
      ],
      "metadata": {
        "id": "u3OeTGcGp2sY",
        "outputId": "697d2fb1-4fec-49ae-a274-19e22791a0cf",
        "colab": {
          "base_uri": "https://localhost:8080/",
          "height": 419
        }
      },
      "execution_count": null,
      "outputs": [
        {
          "output_type": "execute_result",
          "data": {
            "text/plain": [
              "            rank   subscribers   video views        uploads  video_views_rank  \\\n",
              "count  995.00000  9.950000e+02  9.950000e+02     995.000000      9.940000e+02   \n",
              "mean   498.00000  2.298241e+07  1.103954e+10    9187.125628      5.542489e+05   \n",
              "std    287.37606  1.752611e+07  1.411084e+10   34151.352254      1.362782e+06   \n",
              "min      1.00000  1.230000e+07  0.000000e+00       0.000000      1.000000e+00   \n",
              "25%    249.50000  1.450000e+07  4.288145e+09     194.500000      3.230000e+02   \n",
              "50%    498.00000  1.770000e+07  7.760820e+09     729.000000      9.155000e+02   \n",
              "75%    746.50000  2.460000e+07  1.355470e+10    2667.500000      3.584500e+03   \n",
              "max    995.00000  2.450000e+08  2.280000e+11  301308.000000      4.057944e+06   \n",
              "\n",
              "       country_rank  channel_type_rank  video_views_for_the_last_30_days  \\\n",
              "count    879.000000         962.000000                      9.390000e+02   \n",
              "mean     386.053470         745.719335                      1.756103e+08   \n",
              "std     1232.244746        1944.386561                      4.163782e+08   \n",
              "min        1.000000           1.000000                      1.000000e+00   \n",
              "25%       11.000000          27.000000                      2.013750e+07   \n",
              "50%       51.000000          65.500000                      6.408500e+07   \n",
              "75%      123.000000         139.750000                      1.688265e+08   \n",
              "max     7741.000000        7741.000000                      6.589000e+09   \n",
              "\n",
              "       lowest_monthly_earnings  highest_monthly_earnings  ...  \\\n",
              "count               995.000000              9.950000e+02  ...   \n",
              "mean              36886.148281              5.898078e+05  ...   \n",
              "std               71858.724092              1.148622e+06  ...   \n",
              "min                   0.000000              0.000000e+00  ...   \n",
              "25%                2700.000000              4.350000e+04  ...   \n",
              "50%               13300.000000              2.127000e+05  ...   \n",
              "75%               37900.000000              6.068000e+05  ...   \n",
              "max              850900.000000              1.360000e+07  ...   \n",
              "\n",
              "       highest_yearly_earnings  subscribers_for_last_30_days  created_year  \\\n",
              "count             9.950000e+02                  6.580000e+02    990.000000   \n",
              "mean              7.081814e+06                  3.490791e+05   2012.630303   \n",
              "std               1.379704e+07                  6.143554e+05      4.512503   \n",
              "min               0.000000e+00                  1.000000e+00   1970.000000   \n",
              "25%               5.217500e+05                  1.000000e+05   2009.000000   \n",
              "50%               2.600000e+06                  2.000000e+05   2013.000000   \n",
              "75%               7.300000e+06                  4.000000e+05   2016.000000   \n",
              "max               1.634000e+08                  8.000000e+06   2022.000000   \n",
              "\n",
              "       created_date  Gross tertiary education enrollment (%)    Population  \\\n",
              "count    990.000000                               872.000000  8.720000e+02   \n",
              "mean      15.746465                                63.627752  4.303873e+08   \n",
              "std        8.777520                                26.106893  4.727947e+08   \n",
              "min        1.000000                                 7.600000  2.025060e+05   \n",
              "25%        8.000000                                36.300000  8.335541e+07   \n",
              "50%       16.000000                                68.000000  3.282395e+08   \n",
              "75%       23.000000                                88.200000  3.282395e+08   \n",
              "max       31.000000                               113.100000  1.397715e+09   \n",
              "\n",
              "       Unemployment rate  Urban_population    Latitude   Longitude  \n",
              "count         872.000000      8.720000e+02  872.000000  872.000000  \n",
              "mean            9.279278      2.242150e+08   26.632783  -14.128146  \n",
              "std             4.888354      1.546874e+08   20.560533   84.760809  \n",
              "min             0.750000      3.558800e+04  -38.416097 -172.104629  \n",
              "25%             5.270000      5.590832e+07   20.593684  -95.712891  \n",
              "50%             9.365000      2.706630e+08   37.090240  -51.925280  \n",
              "75%            14.700000      2.706630e+08   37.090240   78.962880  \n",
              "max            14.720000      8.429340e+08   61.924110  138.252924  \n",
              "\n",
              "[8 rows x 21 columns]"
            ],
            "text/html": [
              "\n",
              "  <div id=\"df-4451cdae-0610-42a3-aa96-595422c761ce\" class=\"colab-df-container\">\n",
              "    <div>\n",
              "<style scoped>\n",
              "    .dataframe tbody tr th:only-of-type {\n",
              "        vertical-align: middle;\n",
              "    }\n",
              "\n",
              "    .dataframe tbody tr th {\n",
              "        vertical-align: top;\n",
              "    }\n",
              "\n",
              "    .dataframe thead th {\n",
              "        text-align: right;\n",
              "    }\n",
              "</style>\n",
              "<table border=\"1\" class=\"dataframe\">\n",
              "  <thead>\n",
              "    <tr style=\"text-align: right;\">\n",
              "      <th></th>\n",
              "      <th>rank</th>\n",
              "      <th>subscribers</th>\n",
              "      <th>video views</th>\n",
              "      <th>uploads</th>\n",
              "      <th>video_views_rank</th>\n",
              "      <th>country_rank</th>\n",
              "      <th>channel_type_rank</th>\n",
              "      <th>video_views_for_the_last_30_days</th>\n",
              "      <th>lowest_monthly_earnings</th>\n",
              "      <th>highest_monthly_earnings</th>\n",
              "      <th>...</th>\n",
              "      <th>highest_yearly_earnings</th>\n",
              "      <th>subscribers_for_last_30_days</th>\n",
              "      <th>created_year</th>\n",
              "      <th>created_date</th>\n",
              "      <th>Gross tertiary education enrollment (%)</th>\n",
              "      <th>Population</th>\n",
              "      <th>Unemployment rate</th>\n",
              "      <th>Urban_population</th>\n",
              "      <th>Latitude</th>\n",
              "      <th>Longitude</th>\n",
              "    </tr>\n",
              "  </thead>\n",
              "  <tbody>\n",
              "    <tr>\n",
              "      <th>count</th>\n",
              "      <td>995.00000</td>\n",
              "      <td>9.950000e+02</td>\n",
              "      <td>9.950000e+02</td>\n",
              "      <td>995.000000</td>\n",
              "      <td>9.940000e+02</td>\n",
              "      <td>879.000000</td>\n",
              "      <td>962.000000</td>\n",
              "      <td>9.390000e+02</td>\n",
              "      <td>995.000000</td>\n",
              "      <td>9.950000e+02</td>\n",
              "      <td>...</td>\n",
              "      <td>9.950000e+02</td>\n",
              "      <td>6.580000e+02</td>\n",
              "      <td>990.000000</td>\n",
              "      <td>990.000000</td>\n",
              "      <td>872.000000</td>\n",
              "      <td>8.720000e+02</td>\n",
              "      <td>872.000000</td>\n",
              "      <td>8.720000e+02</td>\n",
              "      <td>872.000000</td>\n",
              "      <td>872.000000</td>\n",
              "    </tr>\n",
              "    <tr>\n",
              "      <th>mean</th>\n",
              "      <td>498.00000</td>\n",
              "      <td>2.298241e+07</td>\n",
              "      <td>1.103954e+10</td>\n",
              "      <td>9187.125628</td>\n",
              "      <td>5.542489e+05</td>\n",
              "      <td>386.053470</td>\n",
              "      <td>745.719335</td>\n",
              "      <td>1.756103e+08</td>\n",
              "      <td>36886.148281</td>\n",
              "      <td>5.898078e+05</td>\n",
              "      <td>...</td>\n",
              "      <td>7.081814e+06</td>\n",
              "      <td>3.490791e+05</td>\n",
              "      <td>2012.630303</td>\n",
              "      <td>15.746465</td>\n",
              "      <td>63.627752</td>\n",
              "      <td>4.303873e+08</td>\n",
              "      <td>9.279278</td>\n",
              "      <td>2.242150e+08</td>\n",
              "      <td>26.632783</td>\n",
              "      <td>-14.128146</td>\n",
              "    </tr>\n",
              "    <tr>\n",
              "      <th>std</th>\n",
              "      <td>287.37606</td>\n",
              "      <td>1.752611e+07</td>\n",
              "      <td>1.411084e+10</td>\n",
              "      <td>34151.352254</td>\n",
              "      <td>1.362782e+06</td>\n",
              "      <td>1232.244746</td>\n",
              "      <td>1944.386561</td>\n",
              "      <td>4.163782e+08</td>\n",
              "      <td>71858.724092</td>\n",
              "      <td>1.148622e+06</td>\n",
              "      <td>...</td>\n",
              "      <td>1.379704e+07</td>\n",
              "      <td>6.143554e+05</td>\n",
              "      <td>4.512503</td>\n",
              "      <td>8.777520</td>\n",
              "      <td>26.106893</td>\n",
              "      <td>4.727947e+08</td>\n",
              "      <td>4.888354</td>\n",
              "      <td>1.546874e+08</td>\n",
              "      <td>20.560533</td>\n",
              "      <td>84.760809</td>\n",
              "    </tr>\n",
              "    <tr>\n",
              "      <th>min</th>\n",
              "      <td>1.00000</td>\n",
              "      <td>1.230000e+07</td>\n",
              "      <td>0.000000e+00</td>\n",
              "      <td>0.000000</td>\n",
              "      <td>1.000000e+00</td>\n",
              "      <td>1.000000</td>\n",
              "      <td>1.000000</td>\n",
              "      <td>1.000000e+00</td>\n",
              "      <td>0.000000</td>\n",
              "      <td>0.000000e+00</td>\n",
              "      <td>...</td>\n",
              "      <td>0.000000e+00</td>\n",
              "      <td>1.000000e+00</td>\n",
              "      <td>1970.000000</td>\n",
              "      <td>1.000000</td>\n",
              "      <td>7.600000</td>\n",
              "      <td>2.025060e+05</td>\n",
              "      <td>0.750000</td>\n",
              "      <td>3.558800e+04</td>\n",
              "      <td>-38.416097</td>\n",
              "      <td>-172.104629</td>\n",
              "    </tr>\n",
              "    <tr>\n",
              "      <th>25%</th>\n",
              "      <td>249.50000</td>\n",
              "      <td>1.450000e+07</td>\n",
              "      <td>4.288145e+09</td>\n",
              "      <td>194.500000</td>\n",
              "      <td>3.230000e+02</td>\n",
              "      <td>11.000000</td>\n",
              "      <td>27.000000</td>\n",
              "      <td>2.013750e+07</td>\n",
              "      <td>2700.000000</td>\n",
              "      <td>4.350000e+04</td>\n",
              "      <td>...</td>\n",
              "      <td>5.217500e+05</td>\n",
              "      <td>1.000000e+05</td>\n",
              "      <td>2009.000000</td>\n",
              "      <td>8.000000</td>\n",
              "      <td>36.300000</td>\n",
              "      <td>8.335541e+07</td>\n",
              "      <td>5.270000</td>\n",
              "      <td>5.590832e+07</td>\n",
              "      <td>20.593684</td>\n",
              "      <td>-95.712891</td>\n",
              "    </tr>\n",
              "    <tr>\n",
              "      <th>50%</th>\n",
              "      <td>498.00000</td>\n",
              "      <td>1.770000e+07</td>\n",
              "      <td>7.760820e+09</td>\n",
              "      <td>729.000000</td>\n",
              "      <td>9.155000e+02</td>\n",
              "      <td>51.000000</td>\n",
              "      <td>65.500000</td>\n",
              "      <td>6.408500e+07</td>\n",
              "      <td>13300.000000</td>\n",
              "      <td>2.127000e+05</td>\n",
              "      <td>...</td>\n",
              "      <td>2.600000e+06</td>\n",
              "      <td>2.000000e+05</td>\n",
              "      <td>2013.000000</td>\n",
              "      <td>16.000000</td>\n",
              "      <td>68.000000</td>\n",
              "      <td>3.282395e+08</td>\n",
              "      <td>9.365000</td>\n",
              "      <td>2.706630e+08</td>\n",
              "      <td>37.090240</td>\n",
              "      <td>-51.925280</td>\n",
              "    </tr>\n",
              "    <tr>\n",
              "      <th>75%</th>\n",
              "      <td>746.50000</td>\n",
              "      <td>2.460000e+07</td>\n",
              "      <td>1.355470e+10</td>\n",
              "      <td>2667.500000</td>\n",
              "      <td>3.584500e+03</td>\n",
              "      <td>123.000000</td>\n",
              "      <td>139.750000</td>\n",
              "      <td>1.688265e+08</td>\n",
              "      <td>37900.000000</td>\n",
              "      <td>6.068000e+05</td>\n",
              "      <td>...</td>\n",
              "      <td>7.300000e+06</td>\n",
              "      <td>4.000000e+05</td>\n",
              "      <td>2016.000000</td>\n",
              "      <td>23.000000</td>\n",
              "      <td>88.200000</td>\n",
              "      <td>3.282395e+08</td>\n",
              "      <td>14.700000</td>\n",
              "      <td>2.706630e+08</td>\n",
              "      <td>37.090240</td>\n",
              "      <td>78.962880</td>\n",
              "    </tr>\n",
              "    <tr>\n",
              "      <th>max</th>\n",
              "      <td>995.00000</td>\n",
              "      <td>2.450000e+08</td>\n",
              "      <td>2.280000e+11</td>\n",
              "      <td>301308.000000</td>\n",
              "      <td>4.057944e+06</td>\n",
              "      <td>7741.000000</td>\n",
              "      <td>7741.000000</td>\n",
              "      <td>6.589000e+09</td>\n",
              "      <td>850900.000000</td>\n",
              "      <td>1.360000e+07</td>\n",
              "      <td>...</td>\n",
              "      <td>1.634000e+08</td>\n",
              "      <td>8.000000e+06</td>\n",
              "      <td>2022.000000</td>\n",
              "      <td>31.000000</td>\n",
              "      <td>113.100000</td>\n",
              "      <td>1.397715e+09</td>\n",
              "      <td>14.720000</td>\n",
              "      <td>8.429340e+08</td>\n",
              "      <td>61.924110</td>\n",
              "      <td>138.252924</td>\n",
              "    </tr>\n",
              "  </tbody>\n",
              "</table>\n",
              "<p>8 rows × 21 columns</p>\n",
              "</div>\n",
              "    <div class=\"colab-df-buttons\">\n",
              "\n",
              "  <div class=\"colab-df-container\">\n",
              "    <button class=\"colab-df-convert\" onclick=\"convertToInteractive('df-4451cdae-0610-42a3-aa96-595422c761ce')\"\n",
              "            title=\"Convert this dataframe to an interactive table.\"\n",
              "            style=\"display:none;\">\n",
              "\n",
              "  <svg xmlns=\"http://www.w3.org/2000/svg\" height=\"24px\" viewBox=\"0 -960 960 960\">\n",
              "    <path d=\"M120-120v-720h720v720H120Zm60-500h600v-160H180v160Zm220 220h160v-160H400v160Zm0 220h160v-160H400v160ZM180-400h160v-160H180v160Zm440 0h160v-160H620v160ZM180-180h160v-160H180v160Zm440 0h160v-160H620v160Z\"/>\n",
              "  </svg>\n",
              "    </button>\n",
              "\n",
              "  <style>\n",
              "    .colab-df-container {\n",
              "      display:flex;\n",
              "      gap: 12px;\n",
              "    }\n",
              "\n",
              "    .colab-df-convert {\n",
              "      background-color: #E8F0FE;\n",
              "      border: none;\n",
              "      border-radius: 50%;\n",
              "      cursor: pointer;\n",
              "      display: none;\n",
              "      fill: #1967D2;\n",
              "      height: 32px;\n",
              "      padding: 0 0 0 0;\n",
              "      width: 32px;\n",
              "    }\n",
              "\n",
              "    .colab-df-convert:hover {\n",
              "      background-color: #E2EBFA;\n",
              "      box-shadow: 0px 1px 2px rgba(60, 64, 67, 0.3), 0px 1px 3px 1px rgba(60, 64, 67, 0.15);\n",
              "      fill: #174EA6;\n",
              "    }\n",
              "\n",
              "    .colab-df-buttons div {\n",
              "      margin-bottom: 4px;\n",
              "    }\n",
              "\n",
              "    [theme=dark] .colab-df-convert {\n",
              "      background-color: #3B4455;\n",
              "      fill: #D2E3FC;\n",
              "    }\n",
              "\n",
              "    [theme=dark] .colab-df-convert:hover {\n",
              "      background-color: #434B5C;\n",
              "      box-shadow: 0px 1px 3px 1px rgba(0, 0, 0, 0.15);\n",
              "      filter: drop-shadow(0px 1px 2px rgba(0, 0, 0, 0.3));\n",
              "      fill: #FFFFFF;\n",
              "    }\n",
              "  </style>\n",
              "\n",
              "    <script>\n",
              "      const buttonEl =\n",
              "        document.querySelector('#df-4451cdae-0610-42a3-aa96-595422c761ce button.colab-df-convert');\n",
              "      buttonEl.style.display =\n",
              "        google.colab.kernel.accessAllowed ? 'block' : 'none';\n",
              "\n",
              "      async function convertToInteractive(key) {\n",
              "        const element = document.querySelector('#df-4451cdae-0610-42a3-aa96-595422c761ce');\n",
              "        const dataTable =\n",
              "          await google.colab.kernel.invokeFunction('convertToInteractive',\n",
              "                                                    [key], {});\n",
              "        if (!dataTable) return;\n",
              "\n",
              "        const docLinkHtml = 'Like what you see? Visit the ' +\n",
              "          '<a target=\"_blank\" href=https://colab.research.google.com/notebooks/data_table.ipynb>data table notebook</a>'\n",
              "          + ' to learn more about interactive tables.';\n",
              "        element.innerHTML = '';\n",
              "        dataTable['output_type'] = 'display_data';\n",
              "        await google.colab.output.renderOutput(dataTable, element);\n",
              "        const docLink = document.createElement('div');\n",
              "        docLink.innerHTML = docLinkHtml;\n",
              "        element.appendChild(docLink);\n",
              "      }\n",
              "    </script>\n",
              "  </div>\n",
              "\n",
              "\n",
              "<div id=\"df-d8b2f466-be5b-4c42-ba45-b593994c2aef\">\n",
              "  <button class=\"colab-df-quickchart\" onclick=\"quickchart('df-d8b2f466-be5b-4c42-ba45-b593994c2aef')\"\n",
              "            title=\"Suggest charts.\"\n",
              "            style=\"display:none;\">\n",
              "\n",
              "<svg xmlns=\"http://www.w3.org/2000/svg\" height=\"24px\"viewBox=\"0 0 24 24\"\n",
              "     width=\"24px\">\n",
              "    <g>\n",
              "        <path d=\"M19 3H5c-1.1 0-2 .9-2 2v14c0 1.1.9 2 2 2h14c1.1 0 2-.9 2-2V5c0-1.1-.9-2-2-2zM9 17H7v-7h2v7zm4 0h-2V7h2v10zm4 0h-2v-4h2v4z\"/>\n",
              "    </g>\n",
              "</svg>\n",
              "  </button>\n",
              "\n",
              "<style>\n",
              "  .colab-df-quickchart {\n",
              "      --bg-color: #E8F0FE;\n",
              "      --fill-color: #1967D2;\n",
              "      --hover-bg-color: #E2EBFA;\n",
              "      --hover-fill-color: #174EA6;\n",
              "      --disabled-fill-color: #AAA;\n",
              "      --disabled-bg-color: #DDD;\n",
              "  }\n",
              "\n",
              "  [theme=dark] .colab-df-quickchart {\n",
              "      --bg-color: #3B4455;\n",
              "      --fill-color: #D2E3FC;\n",
              "      --hover-bg-color: #434B5C;\n",
              "      --hover-fill-color: #FFFFFF;\n",
              "      --disabled-bg-color: #3B4455;\n",
              "      --disabled-fill-color: #666;\n",
              "  }\n",
              "\n",
              "  .colab-df-quickchart {\n",
              "    background-color: var(--bg-color);\n",
              "    border: none;\n",
              "    border-radius: 50%;\n",
              "    cursor: pointer;\n",
              "    display: none;\n",
              "    fill: var(--fill-color);\n",
              "    height: 32px;\n",
              "    padding: 0;\n",
              "    width: 32px;\n",
              "  }\n",
              "\n",
              "  .colab-df-quickchart:hover {\n",
              "    background-color: var(--hover-bg-color);\n",
              "    box-shadow: 0 1px 2px rgba(60, 64, 67, 0.3), 0 1px 3px 1px rgba(60, 64, 67, 0.15);\n",
              "    fill: var(--button-hover-fill-color);\n",
              "  }\n",
              "\n",
              "  .colab-df-quickchart-complete:disabled,\n",
              "  .colab-df-quickchart-complete:disabled:hover {\n",
              "    background-color: var(--disabled-bg-color);\n",
              "    fill: var(--disabled-fill-color);\n",
              "    box-shadow: none;\n",
              "  }\n",
              "\n",
              "  .colab-df-spinner {\n",
              "    border: 2px solid var(--fill-color);\n",
              "    border-color: transparent;\n",
              "    border-bottom-color: var(--fill-color);\n",
              "    animation:\n",
              "      spin 1s steps(1) infinite;\n",
              "  }\n",
              "\n",
              "  @keyframes spin {\n",
              "    0% {\n",
              "      border-color: transparent;\n",
              "      border-bottom-color: var(--fill-color);\n",
              "      border-left-color: var(--fill-color);\n",
              "    }\n",
              "    20% {\n",
              "      border-color: transparent;\n",
              "      border-left-color: var(--fill-color);\n",
              "      border-top-color: var(--fill-color);\n",
              "    }\n",
              "    30% {\n",
              "      border-color: transparent;\n",
              "      border-left-color: var(--fill-color);\n",
              "      border-top-color: var(--fill-color);\n",
              "      border-right-color: var(--fill-color);\n",
              "    }\n",
              "    40% {\n",
              "      border-color: transparent;\n",
              "      border-right-color: var(--fill-color);\n",
              "      border-top-color: var(--fill-color);\n",
              "    }\n",
              "    60% {\n",
              "      border-color: transparent;\n",
              "      border-right-color: var(--fill-color);\n",
              "    }\n",
              "    80% {\n",
              "      border-color: transparent;\n",
              "      border-right-color: var(--fill-color);\n",
              "      border-bottom-color: var(--fill-color);\n",
              "    }\n",
              "    90% {\n",
              "      border-color: transparent;\n",
              "      border-bottom-color: var(--fill-color);\n",
              "    }\n",
              "  }\n",
              "</style>\n",
              "\n",
              "  <script>\n",
              "    async function quickchart(key) {\n",
              "      const quickchartButtonEl =\n",
              "        document.querySelector('#' + key + ' button');\n",
              "      quickchartButtonEl.disabled = true;  // To prevent multiple clicks.\n",
              "      quickchartButtonEl.classList.add('colab-df-spinner');\n",
              "      try {\n",
              "        const charts = await google.colab.kernel.invokeFunction(\n",
              "            'suggestCharts', [key], {});\n",
              "      } catch (error) {\n",
              "        console.error('Error during call to suggestCharts:', error);\n",
              "      }\n",
              "      quickchartButtonEl.classList.remove('colab-df-spinner');\n",
              "      quickchartButtonEl.classList.add('colab-df-quickchart-complete');\n",
              "    }\n",
              "    (() => {\n",
              "      let quickchartButtonEl =\n",
              "        document.querySelector('#df-d8b2f466-be5b-4c42-ba45-b593994c2aef button');\n",
              "      quickchartButtonEl.style.display =\n",
              "        google.colab.kernel.accessAllowed ? 'block' : 'none';\n",
              "    })();\n",
              "  </script>\n",
              "</div>\n",
              "    </div>\n",
              "  </div>\n"
            ]
          },
          "metadata": {},
          "execution_count": 11
        }
      ]
    },
    {
      "cell_type": "code",
      "source": [
        "mean = df['uploads'].mean()\n",
        "mean"
      ],
      "metadata": {
        "id": "ud5DMETOU8hS",
        "outputId": "c5f82484-95ea-4046-a840-bf4ea52bb413",
        "colab": {
          "base_uri": "https://localhost:8080/"
        }
      },
      "execution_count": null,
      "outputs": [
        {
          "output_type": "execute_result",
          "data": {
            "text/plain": [
              "9187.125628140704"
            ]
          },
          "metadata": {},
          "execution_count": 14
        }
      ]
    },
    {
      "cell_type": "code",
      "source": [
        "median = df['uploads'].median()\n",
        "median"
      ],
      "metadata": {
        "id": "TVB8P3FDVwxM",
        "outputId": "2d2be7d1-02a8-4211-cd65-e4e7a12db912",
        "colab": {
          "base_uri": "https://localhost:8080/"
        }
      },
      "execution_count": null,
      "outputs": [
        {
          "output_type": "execute_result",
          "data": {
            "text/plain": [
              "729.0"
            ]
          },
          "metadata": {},
          "execution_count": 15
        }
      ]
    },
    {
      "cell_type": "code",
      "source": [
        "\n",
        "mode = df['uploads'].mode()\n",
        "mode"
      ],
      "metadata": {
        "id": "0xHCgiXCVyhs",
        "outputId": "76087ecc-69bc-4b7f-a6b0-e108135640c2",
        "colab": {
          "base_uri": "https://localhost:8080/"
        }
      },
      "execution_count": null,
      "outputs": [
        {
          "output_type": "execute_result",
          "data": {
            "text/plain": [
              "0    0\n",
              "Name: uploads, dtype: int64"
            ]
          },
          "metadata": {},
          "execution_count": 16
        }
      ]
    },
    {
      "cell_type": "code",
      "source": [
        "min = df['uploads'].min()\n",
        "min"
      ],
      "metadata": {
        "id": "HprClRfXVzxW",
        "outputId": "a87d0b77-7478-47dd-a024-bc8bb29d801d",
        "colab": {
          "base_uri": "https://localhost:8080/"
        }
      },
      "execution_count": null,
      "outputs": [
        {
          "output_type": "execute_result",
          "data": {
            "text/plain": [
              "0"
            ]
          },
          "metadata": {},
          "execution_count": 18
        }
      ]
    },
    {
      "cell_type": "code",
      "source": [
        "\n",
        "max = df['uploads'].max()\n",
        "max"
      ],
      "metadata": {
        "id": "sA2gR7IAV1k3",
        "outputId": "4a69e00d-3881-4828-9260-c89394d0b5cb",
        "colab": {
          "base_uri": "https://localhost:8080/"
        }
      },
      "execution_count": null,
      "outputs": [
        {
          "output_type": "execute_result",
          "data": {
            "text/plain": [
              "301308"
            ]
          },
          "metadata": {},
          "execution_count": 19
        }
      ]
    },
    {
      "cell_type": "code",
      "source": [
        "\n",
        "std = df['uploads'].std()\n",
        "std"
      ],
      "metadata": {
        "id": "BWeXHW3Vovz4",
        "outputId": "6d07a36c-2ce0-4d3b-e862-fc39cb041017",
        "colab": {
          "base_uri": "https://localhost:8080/"
        }
      },
      "execution_count": null,
      "outputs": [
        {
          "output_type": "execute_result",
          "data": {
            "text/plain": [
              "34151.352253722594"
            ]
          },
          "metadata": {},
          "execution_count": 20
        }
      ]
    },
    {
      "cell_type": "markdown",
      "source": [
        "Вычислите следующие квантили: 25%, 50% (медиана), 75% для числового признака вашего датасета. Затем найдите интерквартильный размах."
      ],
      "metadata": {
        "id": "dZEVd9QIVMyV"
      }
    },
    {
      "cell_type": "code",
      "source": [
        "q1 = df['uploads'].quantile(0.25)\n",
        "q1"
      ],
      "metadata": {
        "id": "2UMcBq9dVbVE",
        "outputId": "10c57197-1d2f-479c-bdbb-8aa298a098a8",
        "colab": {
          "base_uri": "https://localhost:8080/"
        }
      },
      "execution_count": null,
      "outputs": [
        {
          "output_type": "execute_result",
          "data": {
            "text/plain": [
              "194.5"
            ]
          },
          "metadata": {},
          "execution_count": 21
        }
      ]
    },
    {
      "cell_type": "code",
      "source": [
        "q2 = df['uploads'].quantile(0.50)\n",
        "q2\n"
      ],
      "metadata": {
        "id": "8joJvKduWJsC",
        "outputId": "0191875f-8498-4874-eb2d-5c20d9d74948",
        "colab": {
          "base_uri": "https://localhost:8080/"
        }
      },
      "execution_count": null,
      "outputs": [
        {
          "output_type": "execute_result",
          "data": {
            "text/plain": [
              "729.0"
            ]
          },
          "metadata": {},
          "execution_count": 22
        }
      ]
    },
    {
      "cell_type": "code",
      "source": [
        "q3 = df['uploads'].quantile(0.75)\n",
        "q3\n"
      ],
      "metadata": {
        "id": "pQTQqM3GWLOV",
        "outputId": "df4c0481-0215-46e4-c94a-cdc85cf7cd94",
        "colab": {
          "base_uri": "https://localhost:8080/"
        }
      },
      "execution_count": null,
      "outputs": [
        {
          "output_type": "execute_result",
          "data": {
            "text/plain": [
              "2667.5"
            ]
          },
          "metadata": {},
          "execution_count": 23
        }
      ]
    },
    {
      "cell_type": "markdown",
      "source": [],
      "metadata": {
        "id": "SAW8DnnK9kCL"
      }
    },
    {
      "cell_type": "code",
      "source": [
        "iqr = q3 - q1\n",
        "iqr"
      ],
      "metadata": {
        "id": "lAwZHIbfWMmH",
        "outputId": "bb4d7638-3431-4c56-9fee-a5fbe1f1d07b",
        "colab": {
          "base_uri": "https://localhost:8080/"
        }
      },
      "execution_count": null,
      "outputs": [
        {
          "output_type": "execute_result",
          "data": {
            "text/plain": [
              "2473.0"
            ]
          },
          "metadata": {},
          "execution_count": 24
        }
      ]
    },
    {
      "cell_type": "markdown",
      "source": [
        "Какие выводы можно сделать исходя из полученных статистических данных?"
      ],
      "metadata": {
        "id": "vm0-5sY4WX2I"
      }
    },
    {
      "cell_type": "markdown",
      "source": [
        "**Ответ здесь**\n",
        "\n",
        "`Исходя из данных можно понять, что мода находится в минимальном значении, это значит, что большое колличество каналов просматривают видео, нежели выеладывают их на площадку.\n",
        "```\n"
      ],
      "metadata": {
        "id": "OnO1hVGyWe8D"
      }
    },
    {
      "cell_type": "markdown",
      "source": [
        "##Основы визуализации"
      ],
      "metadata": {
        "id": "zDISZbQVWk6m"
      }
    },
    {
      "cell_type": "markdown",
      "source": [
        " Постройте гистограмму переменной (X) относительно категориального признака (Y) из своего датасета."
      ],
      "metadata": {
        "id": "aU8cakZvZBuj"
      }
    },
    {
      "cell_type": "code",
      "source": [
        "df_ed = list(df[df['category'] == 'Music']['video views'])\n",
        "df_sport = list(df[df['category'] == 'Film & Animation']['video views'])\n",
        "df_show = list(df[df['category'] == 'Shows']['video views'])\n",
        "type_e = ['Music','Film & Animation','Shows']\n",
        "plt.figure(figsize=(4, 3))\n",
        "plt.hist([df_ed,df_sport,df_show],bins=6,label=type_e)\n",
        "plt.title('просмотры')\n",
        "plt.xlabel('категория видео')\n",
        "plt.legend()\n",
        "\n",
        "plt.show()\n"
      ],
      "metadata": {
        "id": "9-KTIzdfZLmP",
        "outputId": "a2da3081-e875-4765-bb9c-587563939e2a",
        "colab": {
          "base_uri": "https://localhost:8080/",
          "height": 333
        }
      },
      "execution_count": null,
      "outputs": [
        {
          "output_type": "display_data",
          "data": {
            "text/plain": [
              "<Figure size 400x300 with 1 Axes>"
            ],
            "image/png": "[encoded data removed]"
          },
          "metadata": {}
        }
      ]
    },
    {
      "cell_type": "markdown",
      "source": [
        "На гистрограме мы можем увидеть что категория \"музыка\" на ютубе намного популярнее чем фильмы или шоу, поэтому можно сделать вывод о том, что многие люди могут включать музыкальные видео на фон и заниматься своими делами, или например, слушать расслабляющую музыку перед сном."
      ],
      "metadata": {
        "id": "MUV4I9zFbNHD"
      }
    },
    {
      "cell_type": "markdown",
      "source": [
        "Постройте boxplot любого признака из своего датасета.\n",
        "\n",
        "1) boxplot числовой переменной;\n",
        "\n",
        "2) boxplot числовой переменной относительно категориальный переменной;\n",
        "\n",
        "*p.s. Если у вас только один числовой признак, преобразуйте категориальный при помощи LabelEncoder (https://scikit-learn.org/stable/modules/generated/sklearn.preprocessing.LabelEncoder.html)*"
      ],
      "metadata": {
        "id": "zPsEO4m1ZWDy"
      }
    },
    {
      "cell_type": "code",
      "source": [
        "sns.boxplot( y = 'uploads', data = df)"
      ],
      "metadata": {
        "id": "ccJLh1r-Zdne",
        "outputId": "70e04617-a5a8-4b08-cd43-4c903af81b93",
        "colab": {
          "base_uri": "https://localhost:8080/",
          "height": 428
        }
      },
      "execution_count": null,
      "outputs": [
        {
          "output_type": "execute_result",
          "data": {
            "text/plain": [
              "<Axes: ylabel='uploads'>"
            ]
          },
          "metadata": {},
          "execution_count": 26
        },
        {
          "output_type": "display_data",
          "data": {
            "text/plain": [
              "<Figure size 640x480 with 1 Axes>"
            ],
            "image/png": "[encoded data removed]"
          },
          "metadata": {}
        }
      ]
    },
    {
      "cell_type": "markdown",
      "source": [
        "на графике видно, что присутствует достаточное кол-во выбросов, кол-во загрузок близко к нулю"
      ],
      "metadata": {
        "id": "8BPMviBtcMuO"
      }
    },
    {
      "cell_type": "code",
      "source": [
        "sns.boxplot( x = 'category', y = 'uploads', data = df)"
      ],
      "metadata": {
        "id": "9ZRV3jjlq9NN",
        "outputId": "92da69f8-2bd3-41ef-bcf1-393143e11b14",
        "colab": {
          "base_uri": "https://localhost:8080/",
          "height": 466
        }
      },
      "execution_count": null,
      "outputs": [
        {
          "output_type": "execute_result",
          "data": {
            "text/plain": [
              "<Axes: xlabel='category', ylabel='uploads'>"
            ]
          },
          "metadata": {},
          "execution_count": 27
        },
        {
          "output_type": "display_data",
          "data": {
            "text/plain": [
              "<Figure size 640x480 with 1 Axes>"
            ],
            "image/png": "[encoded data removed]"
          },
          "metadata": {}
        }
      ]
    },
    {
      "cell_type": "markdown",
      "source": [
        "видно что по всем категориям которые представленны на графике есть выбросы, как и на прошлый графиках можно заметить, что по многим категориям примерно похожее кол-во загрузок, но есть наиболее популярные"
      ],
      "metadata": {
        "id": "QZblhxbKdqh5"
      }
    },
    {
      "cell_type": "markdown",
      "source": [
        "Постройте диаграмму рассеивания для числовых признаков вашего датасета.\n",
        "\n",
        "*p.s. Если у вас только один числовой признак, преобразуйте категориальный при помощи LabelEncoder (https://scikit-learn.org/stable/modules/generated/sklearn.preprocessing.LabelEncoder.html)*"
      ],
      "metadata": {
        "id": "mj8cdITDZh53"
      }
    },
    {
      "cell_type": "code",
      "source": [
        "plt.figure(figsize=(4, 3))\n",
        "plt.scatter(df['video views'], df['subscribers'], color='green')\n",
        "plt.xlabel('кол-во просмотров')\n",
        "plt.ylabel('подписчики')\n",
        "plt.show()"
      ],
      "metadata": {
        "id": "V2-ZoNUcZ_2l",
        "outputId": "5713f859-d760-4bd8-843b-22de6f4f04a1",
        "colab": {
          "base_uri": "https://localhost:8080/",
          "height": 326
        }
      },
      "execution_count": null,
      "outputs": [
        {
          "output_type": "display_data",
          "data": {
            "text/plain": [
              "<Figure size 400x300 with 1 Axes>"
            ],
            "image/png": "[encoded data removed]"
          },
          "metadata": {}
        }
      ]
    },
    {
      "cell_type": "markdown",
      "source": [
        "на графике видно прямую зависимость, тоесть чем меньше подписчиков, тем меньше просмотров, также можно заметить несколько аномалий на графике, тобишь большое кол-во подписчиков, а следовательно и просмотров"
      ],
      "metadata": {
        "id": "YL4Y3XIqfO1b"
      }
    },
    {
      "cell_type": "markdown",
      "source": [
        "Постройте матрицу корреляции для двух числовых признаков вашего датасета."
      ],
      "metadata": {
        "id": "S-jG4a5SaFXS"
      }
    },
    {
      "cell_type": "code",
      "source": [],
      "metadata": {
        "id": "u_lOnPtjnfbq"
      },
      "execution_count": null,
      "outputs": []
    },
    {
      "cell_type": "code",
      "source": [
        "sns.heatmap(df[['subscribers','video views']].corr(), cmap=\"YlGnBu\", annot=True)"
      ],
      "metadata": {
        "id": "p04Ifq_ZaOHb",
        "outputId": "18ea0ff9-5b11-40fc-e562-7b4456faf2df",
        "colab": {
          "base_uri": "https://localhost:8080/",
          "height": 452
        }
      },
      "execution_count": null,
      "outputs": [
        {
          "output_type": "execute_result",
          "data": {
            "text/plain": [
              "<Axes: >"
            ]
          },
          "metadata": {},
          "execution_count": 30
        },
        {
          "output_type": "display_data",
          "data": {
            "text/plain": [
              "<Figure size 640x480 with 2 Axes>"
            ],
            "image/png": "[encoded data removed]"
          },
          "metadata": {}
        }
      ]
    },
    {
      "cell_type": "markdown",
      "source": [
        "Какие выводы можно сделать на основе графиков и матрицы корреляции?"
      ],
      "metadata": {
        "id": "2MVHWXICaoJ4"
      }
    },
    {
      "cell_type": "markdown",
      "source": [
        "**Ответ здесь**"
      ],
      "metadata": {
        "id": "HFAFaiNzatLN"
      }
    },
    {
      "cell_type": "markdown",
      "source": [
        "Как уже и было сказанно связь у нас прямая, просмотры напрямую связанны с кол-вом подписчиков, связь сильная так как коэфициент равен 0,75"
      ],
      "metadata": {
        "id": "h0X0nZ9_gM9B"
      }
    },
    {
      "cell_type": "markdown",
      "source": [
        "##Задание для гениев*"
      ],
      "metadata": {
        "id": "K5HCSPTPbwfJ"
      }
    },
    {
      "cell_type": "markdown",
      "source": [
        "Реализовать следующие методы поиска выбросов:\n",
        "1. На основе среднего и отклонения\n",
        "2. Критерий Шовене\n",
        "3. С помощью квартилей\n",
        "4. Поиск выбросов по двум переменным\n",
        "\n",
        "[Посмотреть](http://course.omgtu.ru/wp-content/uploads/2021/04/3_%D0%92%D1%8B%D0%B1%D1%80%D0%BE%D1%81%D1%8B.pdf)\n",
        "\n",
        "P.S. в качестве возвразаемого значения методов может быть:\n",
        "1. очищенный датафрейм\n",
        "2. индексы выбросов ```df.series.index```"
      ],
      "metadata": {
        "id": "pil5bgt5b98A"
      }
    },
    {
      "cell_type": "code",
      "source": [
        "\"\"\"\n",
        "\n",
        "Ваш код здесь\n",
        "\n",
        "\"\"\""
      ],
      "metadata": {
        "id": "IXM6eoIvdCBs"
      },
      "execution_count": null,
      "outputs": []
    },
    {
      "cell_type": "markdown",
      "source": [
        "### Пример реализации одного метода"
      ],
      "metadata": {
        "id": "dRQRyxdgD_sk"
      }
    },
    {
      "cell_type": "code",
      "source": [
        "from statistics import median, mean\n",
        "\n",
        "class Outline:\n",
        "  def __init__(self, df):\n",
        "    self.df = df\n",
        "\n",
        "  def delete_outline_by_mean(self, column_name):\n",
        "    mean_data = mean(self.df[column_name])\n",
        "    maximum = mean_data * 2\n",
        "    result = []\n",
        "\n",
        "    for item in self.df[column_name]:\n",
        "      if abs(item - mean_data) < maximum:\n",
        "        result.append(item)\n",
        "\n",
        "    return result\n",
        "\n"
      ],
      "metadata": {
        "id": "lJEOQcx0vavH"
      },
      "execution_count": null,
      "outputs": []
    },
    {
      "cell_type": "code",
      "source": [
        "data = pd.DataFrame(\n",
        "    data = {\n",
        "        \"col1\": [1, 2, 3, 4, 5, 1000],\n",
        "        \"col2\": [1, 2, 3, 2, 1, 4]\n",
        "    }\n",
        ")\n",
        "\n",
        "so = Outline(data)\n",
        "so.delete_outline_by_mean(\"col1\")"
      ],
      "metadata": {
        "colab": {
          "base_uri": "https://localhost:8080/"
        },
        "id": "1EViTEon8Rkj",
        "outputId": "d1fa0b6f-a127-4d89-c2c8-9597251aaac6"
      },
      "execution_count": null,
      "outputs": [
        {
          "output_type": "execute_result",
          "data": {
            "text/plain": [
              "[1, 2, 3, 4, 5]"
            ]
          },
          "metadata": {},
          "execution_count": 39
        }
      ]
    }
  ]
}